{
 "cells": [
  {
   "cell_type": "markdown",
   "metadata": {},
   "source": [
    "## __DQLab Challenge : Pengembangan Hotel Search Engine untuk DQLab Travel__"
   ]
  },
  {
   "cell_type": "markdown",
   "metadata": {},
   "source": [
    "by Imam Aris Munandar"
   ]
  },
  {
   "cell_type": "code",
   "execution_count": 2,
   "metadata": {},
   "outputs": [],
   "source": [
    "import pandas as pd\n",
    "import matplotlib.pyplot as plt"
   ]
  },
  {
   "cell_type": "code",
   "execution_count": 3,
   "metadata": {},
   "outputs": [],
   "source": [
    "# load data hotel and review hotel use read_excel\n",
    "hotel_df = pd.read_excel('data_hotel.xlsx')\n",
    "review_df = pd.read_excel('review_hotel.xlsx')"
   ]
  },
  {
   "cell_type": "code",
   "execution_count": 4,
   "metadata": {},
   "outputs": [
    {
     "data": {
      "text/html": [
       "<div>\n",
       "<style scoped>\n",
       "    .dataframe tbody tr th:only-of-type {\n",
       "        vertical-align: middle;\n",
       "    }\n",
       "\n",
       "    .dataframe tbody tr th {\n",
       "        vertical-align: top;\n",
       "    }\n",
       "\n",
       "    .dataframe thead th {\n",
       "        text-align: right;\n",
       "    }\n",
       "</style>\n",
       "<table border=\"1\" class=\"dataframe\">\n",
       "  <thead>\n",
       "    <tr style=\"text-align: right;\">\n",
       "      <th></th>\n",
       "      <th>hotel_id</th>\n",
       "      <th>hotel_name</th>\n",
       "      <th>hotel_description</th>\n",
       "      <th>hotel_province</th>\n",
       "      <th>hotel_city</th>\n",
       "      <th>hotel_address</th>\n",
       "      <th>price_per_night</th>\n",
       "    </tr>\n",
       "  </thead>\n",
       "  <tbody>\n",
       "    <tr>\n",
       "      <th>0</th>\n",
       "      <td>h0001</td>\n",
       "      <td>Midtown Residence Marvell City Surabaya</td>\n",
       "      <td>NaN</td>\n",
       "      <td>Jawa Timur</td>\n",
       "      <td>Surabaya</td>\n",
       "      <td>Jalan Ngagel Raya No 123</td>\n",
       "      <td>527866.666667</td>\n",
       "    </tr>\n",
       "    <tr>\n",
       "      <th>1</th>\n",
       "      <td>h0002</td>\n",
       "      <td>favehotel Graha Agung Surabaya</td>\n",
       "      <td>Sebuah Hotel Mewah di Surabaya Persembahan dar...</td>\n",
       "      <td>Jawa Timur</td>\n",
       "      <td>Surabaya</td>\n",
       "      <td>Jl. Mayjen Yono Soewoyo Pakuwon Indah Square A...</td>\n",
       "      <td>442860.000000</td>\n",
       "    </tr>\n",
       "    <tr>\n",
       "      <th>2</th>\n",
       "      <td>h0003</td>\n",
       "      <td>The Sun Hotel Sidoarjo</td>\n",
       "      <td>Hotel Bintang 3 Pertama dan Satu-satunya di Si...</td>\n",
       "      <td>Jawa Timur</td>\n",
       "      <td>Surabaya</td>\n",
       "      <td>Jl. Pahlawan No.1,Sidokumpul, Sidoarjo, Suraba...</td>\n",
       "      <td>305000.000000</td>\n",
       "    </tr>\n",
       "    <tr>\n",
       "      <th>3</th>\n",
       "      <td>h0004</td>\n",
       "      <td>Grand Surabaya Hotel</td>\n",
       "      <td>Penginapan Yang Tenang Dan Nyaman Di Surabaya.</td>\n",
       "      <td>Jawa Timur</td>\n",
       "      <td>Surabaya</td>\n",
       "      <td>Jl. Pemuda 19-21, Surabaya, Indonesia</td>\n",
       "      <td>324999.333333</td>\n",
       "    </tr>\n",
       "    <tr>\n",
       "      <th>4</th>\n",
       "      <td>h0005</td>\n",
       "      <td>The WIN Hotel Surabaya</td>\n",
       "      <td>WIN Hotel adalah hotel smart bintang 3 yang me...</td>\n",
       "      <td>Jawa Timur</td>\n",
       "      <td>Surabaya</td>\n",
       "      <td>Jl. Embong Tanjung 46 - 48 Surabaya, Jawa Timu...</td>\n",
       "      <td>310947.250000</td>\n",
       "    </tr>\n",
       "  </tbody>\n",
       "</table>\n",
       "</div>"
      ],
      "text/plain": [
       "  hotel_id                               hotel_name  \\\n",
       "0    h0001  Midtown Residence Marvell City Surabaya   \n",
       "1    h0002           favehotel Graha Agung Surabaya   \n",
       "2    h0003                   The Sun Hotel Sidoarjo   \n",
       "3    h0004                     Grand Surabaya Hotel   \n",
       "4    h0005                   The WIN Hotel Surabaya   \n",
       "\n",
       "                                   hotel_description hotel_province  \\\n",
       "0                                                NaN     Jawa Timur   \n",
       "1  Sebuah Hotel Mewah di Surabaya Persembahan dar...     Jawa Timur   \n",
       "2  Hotel Bintang 3 Pertama dan Satu-satunya di Si...     Jawa Timur   \n",
       "3     Penginapan Yang Tenang Dan Nyaman Di Surabaya.     Jawa Timur   \n",
       "4  WIN Hotel adalah hotel smart bintang 3 yang me...     Jawa Timur   \n",
       "\n",
       "  hotel_city                                      hotel_address  \\\n",
       "0   Surabaya                           Jalan Ngagel Raya No 123   \n",
       "1   Surabaya  Jl. Mayjen Yono Soewoyo Pakuwon Indah Square A...   \n",
       "2   Surabaya  Jl. Pahlawan No.1,Sidokumpul, Sidoarjo, Suraba...   \n",
       "3   Surabaya              Jl. Pemuda 19-21, Surabaya, Indonesia   \n",
       "4   Surabaya  Jl. Embong Tanjung 46 - 48 Surabaya, Jawa Timu...   \n",
       "\n",
       "   price_per_night  \n",
       "0    527866.666667  \n",
       "1    442860.000000  \n",
       "2    305000.000000  \n",
       "3    324999.333333  \n",
       "4    310947.250000  "
      ]
     },
     "execution_count": 4,
     "metadata": {},
     "output_type": "execute_result"
    }
   ],
   "source": [
    "# cek top 5 dataframe in data_hotel\n",
    "hotel_df.head()"
   ]
  },
  {
   "cell_type": "code",
   "execution_count": 5,
   "metadata": {},
   "outputs": [
    {
     "data": {
      "text/html": [
       "<div>\n",
       "<style scoped>\n",
       "    .dataframe tbody tr th:only-of-type {\n",
       "        vertical-align: middle;\n",
       "    }\n",
       "\n",
       "    .dataframe tbody tr th {\n",
       "        vertical-align: top;\n",
       "    }\n",
       "\n",
       "    .dataframe thead th {\n",
       "        text-align: right;\n",
       "    }\n",
       "</style>\n",
       "<table border=\"1\" class=\"dataframe\">\n",
       "  <thead>\n",
       "    <tr style=\"text-align: right;\">\n",
       "      <th></th>\n",
       "      <th>booking_id</th>\n",
       "      <th>booking_date</th>\n",
       "      <th>hotel_id</th>\n",
       "      <th>hotel_name</th>\n",
       "      <th>stay_duration</th>\n",
       "      <th>adults</th>\n",
       "      <th>children</th>\n",
       "      <th>rating</th>\n",
       "      <th>review</th>\n",
       "    </tr>\n",
       "  </thead>\n",
       "  <tbody>\n",
       "    <tr>\n",
       "      <th>0</th>\n",
       "      <td>b0001</td>\n",
       "      <td>19-04-2020</td>\n",
       "      <td>h0014</td>\n",
       "      <td>Zest Hotel Jemursari Surabaya</td>\n",
       "      <td>1</td>\n",
       "      <td>2</td>\n",
       "      <td>1</td>\n",
       "      <td>8.4</td>\n",
       "      <td>Short stay</td>\n",
       "    </tr>\n",
       "    <tr>\n",
       "      <th>1</th>\n",
       "      <td>b0002</td>\n",
       "      <td>06-04-2020</td>\n",
       "      <td>h0014</td>\n",
       "      <td>Zest Hotel Jemursari Surabaya</td>\n",
       "      <td>1</td>\n",
       "      <td>1</td>\n",
       "      <td>1</td>\n",
       "      <td>10.0</td>\n",
       "      <td>Hotelnya nyaman</td>\n",
       "    </tr>\n",
       "    <tr>\n",
       "      <th>2</th>\n",
       "      <td>b0003</td>\n",
       "      <td>24-03-2020</td>\n",
       "      <td>h0014</td>\n",
       "      <td>Zest Hotel Jemursari Surabaya</td>\n",
       "      <td>2</td>\n",
       "      <td>2</td>\n",
       "      <td>1</td>\n",
       "      <td>9.2</td>\n",
       "      <td>Cukup baik untuk transit</td>\n",
       "    </tr>\n",
       "    <tr>\n",
       "      <th>3</th>\n",
       "      <td>b0004</td>\n",
       "      <td>23-03-2020</td>\n",
       "      <td>h0014</td>\n",
       "      <td>Zest Hotel Jemursari Surabaya</td>\n",
       "      <td>1</td>\n",
       "      <td>2</td>\n",
       "      <td>0</td>\n",
       "      <td>9.2</td>\n",
       "      <td>Nyaman</td>\n",
       "    </tr>\n",
       "    <tr>\n",
       "      <th>4</th>\n",
       "      <td>b0005</td>\n",
       "      <td>14-03-2020</td>\n",
       "      <td>h0014</td>\n",
       "      <td>Zest Hotel Jemursari Surabaya</td>\n",
       "      <td>2</td>\n",
       "      <td>2</td>\n",
       "      <td>1</td>\n",
       "      <td>6.8</td>\n",
       "      <td>Not good</td>\n",
       "    </tr>\n",
       "  </tbody>\n",
       "</table>\n",
       "</div>"
      ],
      "text/plain": [
       "  booking_id booking_date hotel_id                     hotel_name  \\\n",
       "0      b0001   19-04-2020    h0014  Zest Hotel Jemursari Surabaya   \n",
       "1      b0002   06-04-2020    h0014  Zest Hotel Jemursari Surabaya   \n",
       "2      b0003   24-03-2020    h0014  Zest Hotel Jemursari Surabaya   \n",
       "3      b0004   23-03-2020    h0014  Zest Hotel Jemursari Surabaya   \n",
       "4      b0005   14-03-2020    h0014  Zest Hotel Jemursari Surabaya   \n",
       "\n",
       "   stay_duration  adults  children  rating                    review  \n",
       "0              1       2         1     8.4                Short stay  \n",
       "1              1       1         1    10.0           Hotelnya nyaman  \n",
       "2              2       2         1     9.2  Cukup baik untuk transit  \n",
       "3              1       2         0     9.2                    Nyaman  \n",
       "4              2       2         1     6.8                  Not good  "
      ]
     },
     "execution_count": 5,
     "metadata": {},
     "output_type": "execute_result"
    }
   ],
   "source": [
    "# cek top 5 dataframe in review_hotel\n",
    "review_df.head()"
   ]
  },
  {
   "cell_type": "code",
   "execution_count": 6,
   "metadata": {
    "scrolled": true
   },
   "outputs": [
    {
     "data": {
      "text/html": [
       "<div>\n",
       "<style scoped>\n",
       "    .dataframe tbody tr th:only-of-type {\n",
       "        vertical-align: middle;\n",
       "    }\n",
       "\n",
       "    .dataframe tbody tr th {\n",
       "        vertical-align: top;\n",
       "    }\n",
       "\n",
       "    .dataframe thead th {\n",
       "        text-align: right;\n",
       "    }\n",
       "</style>\n",
       "<table border=\"1\" class=\"dataframe\">\n",
       "  <thead>\n",
       "    <tr style=\"text-align: right;\">\n",
       "      <th></th>\n",
       "      <th>hotel_id</th>\n",
       "      <th>hotel_name</th>\n",
       "      <th>hotel_description</th>\n",
       "      <th>hotel_province</th>\n",
       "      <th>hotel_city</th>\n",
       "      <th>hotel_address</th>\n",
       "      <th>price_per_night</th>\n",
       "    </tr>\n",
       "  </thead>\n",
       "  <tbody>\n",
       "    <tr>\n",
       "      <th>1194</th>\n",
       "      <td>h1195</td>\n",
       "      <td>Restu Hotel Yogyakarta</td>\n",
       "      <td>Akomodasi yang nyaman dan modern di Yogyakarta...</td>\n",
       "      <td>Daerah Istimewa Yogyakarta</td>\n",
       "      <td>Jogja</td>\n",
       "      <td>Jl. Batikan No. 7, Pandeyan, Kec. Umbulharjo, ...</td>\n",
       "      <td>150000.000000</td>\n",
       "    </tr>\n",
       "    <tr>\n",
       "      <th>1195</th>\n",
       "      <td>h1196</td>\n",
       "      <td>Oryza Hotel Malioboro</td>\n",
       "      <td>Ideal accommodation options in the Malioboro a...</td>\n",
       "      <td>Daerah Istimewa Yogyakarta</td>\n",
       "      <td>Jogja</td>\n",
       "      <td>Sosrowijayan St No.49-51, Sosromenduran, Gedon...</td>\n",
       "      <td>180000.000000</td>\n",
       "    </tr>\n",
       "    <tr>\n",
       "      <th>1196</th>\n",
       "      <td>h1197</td>\n",
       "      <td>Hotel Asri Graha Yogyakarta</td>\n",
       "      <td>Pilihan akomodasi yang ideal untuk Pasangan, B...</td>\n",
       "      <td>Daerah Istimewa Yogyakarta</td>\n",
       "      <td>Jogja</td>\n",
       "      <td>Jl. Veteran No. 184 A, Umbulharjo, Yogyakarta,...</td>\n",
       "      <td>262500.000000</td>\n",
       "    </tr>\n",
       "    <tr>\n",
       "      <th>1197</th>\n",
       "      <td>h1198</td>\n",
       "      <td>Tasneem Convention Hotel Yogyakarta</td>\n",
       "      <td>Pilihan akomodasi yang ideal untuk Pasangan, B...</td>\n",
       "      <td>Daerah Istimewa Yogyakarta</td>\n",
       "      <td>Jogja</td>\n",
       "      <td>Kawasan Mandira Baruga, Jl. Brigjen Katamso, K...</td>\n",
       "      <td>391666.666667</td>\n",
       "    </tr>\n",
       "    <tr>\n",
       "      <th>1198</th>\n",
       "      <td>h1199</td>\n",
       "      <td>Pesonna Hotel Tugu Yogyakarta</td>\n",
       "      <td>Penginapan Yang Tenang Dan Nyaman di dekat Tug...</td>\n",
       "      <td>Daerah Istimewa Yogyakarta</td>\n",
       "      <td>Jogja</td>\n",
       "      <td>Jl. Diponegoro No.99, Bumijo, Jetis, Yogyakart...</td>\n",
       "      <td>338074.666667</td>\n",
       "    </tr>\n",
       "  </tbody>\n",
       "</table>\n",
       "</div>"
      ],
      "text/plain": [
       "     hotel_id                           hotel_name  \\\n",
       "1194    h1195               Restu Hotel Yogyakarta   \n",
       "1195    h1196                Oryza Hotel Malioboro   \n",
       "1196    h1197          Hotel Asri Graha Yogyakarta   \n",
       "1197    h1198  Tasneem Convention Hotel Yogyakarta   \n",
       "1198    h1199        Pesonna Hotel Tugu Yogyakarta   \n",
       "\n",
       "                                      hotel_description  \\\n",
       "1194  Akomodasi yang nyaman dan modern di Yogyakarta...   \n",
       "1195  Ideal accommodation options in the Malioboro a...   \n",
       "1196  Pilihan akomodasi yang ideal untuk Pasangan, B...   \n",
       "1197  Pilihan akomodasi yang ideal untuk Pasangan, B...   \n",
       "1198  Penginapan Yang Tenang Dan Nyaman di dekat Tug...   \n",
       "\n",
       "                  hotel_province hotel_city  \\\n",
       "1194  Daerah Istimewa Yogyakarta      Jogja   \n",
       "1195  Daerah Istimewa Yogyakarta      Jogja   \n",
       "1196  Daerah Istimewa Yogyakarta      Jogja   \n",
       "1197  Daerah Istimewa Yogyakarta      Jogja   \n",
       "1198  Daerah Istimewa Yogyakarta      Jogja   \n",
       "\n",
       "                                          hotel_address  price_per_night  \n",
       "1194  Jl. Batikan No. 7, Pandeyan, Kec. Umbulharjo, ...    150000.000000  \n",
       "1195  Sosrowijayan St No.49-51, Sosromenduran, Gedon...    180000.000000  \n",
       "1196  Jl. Veteran No. 184 A, Umbulharjo, Yogyakarta,...    262500.000000  \n",
       "1197  Kawasan Mandira Baruga, Jl. Brigjen Katamso, K...    391666.666667  \n",
       "1198  Jl. Diponegoro No.99, Bumijo, Jetis, Yogyakart...    338074.666667  "
      ]
     },
     "execution_count": 6,
     "metadata": {},
     "output_type": "execute_result"
    }
   ],
   "source": [
    "# cek bottom bracket dataframe in data_hotel\n",
    "hotel_df.tail()"
   ]
  },
  {
   "cell_type": "code",
   "execution_count": 7,
   "metadata": {},
   "outputs": [
    {
     "data": {
      "text/html": [
       "<div>\n",
       "<style scoped>\n",
       "    .dataframe tbody tr th:only-of-type {\n",
       "        vertical-align: middle;\n",
       "    }\n",
       "\n",
       "    .dataframe tbody tr th {\n",
       "        vertical-align: top;\n",
       "    }\n",
       "\n",
       "    .dataframe thead th {\n",
       "        text-align: right;\n",
       "    }\n",
       "</style>\n",
       "<table border=\"1\" class=\"dataframe\">\n",
       "  <thead>\n",
       "    <tr style=\"text-align: right;\">\n",
       "      <th></th>\n",
       "      <th>booking_id</th>\n",
       "      <th>booking_date</th>\n",
       "      <th>hotel_id</th>\n",
       "      <th>hotel_name</th>\n",
       "      <th>stay_duration</th>\n",
       "      <th>adults</th>\n",
       "      <th>children</th>\n",
       "      <th>rating</th>\n",
       "      <th>review</th>\n",
       "    </tr>\n",
       "  </thead>\n",
       "  <tbody>\n",
       "    <tr>\n",
       "      <th>4301</th>\n",
       "      <td>b4302</td>\n",
       "      <td>10-08-2019</td>\n",
       "      <td>h0791</td>\n",
       "      <td>The Luxton Bandung</td>\n",
       "      <td>1</td>\n",
       "      <td>2</td>\n",
       "      <td>2</td>\n",
       "      <td>3.6</td>\n",
       "      <td>Hotel kurang perawatan dan membosankan</td>\n",
       "    </tr>\n",
       "    <tr>\n",
       "      <th>4302</th>\n",
       "      <td>b4303</td>\n",
       "      <td>25-07-2019</td>\n",
       "      <td>h0791</td>\n",
       "      <td>The Luxton Bandung</td>\n",
       "      <td>2</td>\n",
       "      <td>2</td>\n",
       "      <td>2</td>\n",
       "      <td>6.8</td>\n",
       "      <td>Kurang perawatan</td>\n",
       "    </tr>\n",
       "    <tr>\n",
       "      <th>4303</th>\n",
       "      <td>b4304</td>\n",
       "      <td>08-07-2019</td>\n",
       "      <td>h0791</td>\n",
       "      <td>The Luxton Bandung</td>\n",
       "      <td>2</td>\n",
       "      <td>2</td>\n",
       "      <td>2</td>\n",
       "      <td>10.0</td>\n",
       "      <td>Mantul</td>\n",
       "    </tr>\n",
       "    <tr>\n",
       "      <th>4304</th>\n",
       "      <td>b4305</td>\n",
       "      <td>15-04-2019</td>\n",
       "      <td>h0791</td>\n",
       "      <td>The Luxton Bandung</td>\n",
       "      <td>3</td>\n",
       "      <td>2</td>\n",
       "      <td>2</td>\n",
       "      <td>3.6</td>\n",
       "      <td>Kecewa</td>\n",
       "    </tr>\n",
       "    <tr>\n",
       "      <th>4305</th>\n",
       "      <td>b4306</td>\n",
       "      <td>09-04-2019</td>\n",
       "      <td>h0791</td>\n",
       "      <td>The Luxton Bandung</td>\n",
       "      <td>2</td>\n",
       "      <td>1</td>\n",
       "      <td>1</td>\n",
       "      <td>8.8</td>\n",
       "      <td>Semoga lebih baik dan sukses</td>\n",
       "    </tr>\n",
       "  </tbody>\n",
       "</table>\n",
       "</div>"
      ],
      "text/plain": [
       "     booking_id booking_date hotel_id          hotel_name  stay_duration  \\\n",
       "4301      b4302   10-08-2019    h0791  The Luxton Bandung              1   \n",
       "4302      b4303   25-07-2019    h0791  The Luxton Bandung              2   \n",
       "4303      b4304   08-07-2019    h0791  The Luxton Bandung              2   \n",
       "4304      b4305   15-04-2019    h0791  The Luxton Bandung              3   \n",
       "4305      b4306   09-04-2019    h0791  The Luxton Bandung              2   \n",
       "\n",
       "      adults  children  rating                                  review  \n",
       "4301       2         2     3.6  Hotel kurang perawatan dan membosankan  \n",
       "4302       2         2     6.8                        Kurang perawatan  \n",
       "4303       2         2    10.0                                  Mantul  \n",
       "4304       2         2     3.6                                  Kecewa  \n",
       "4305       1         1     8.8            Semoga lebih baik dan sukses  "
      ]
     },
     "execution_count": 7,
     "metadata": {},
     "output_type": "execute_result"
    }
   ],
   "source": [
    "# cek bottom bracket dataframe in review_hotel\n",
    "review_df.tail()"
   ]
  },
  {
   "cell_type": "markdown",
   "metadata": {},
   "source": [
    "### __EDA (Exploratory Data Analysis)__\n",
    "disini saya melakukan eksplorasi data terlebih dahulu untuk menentukan data bersih dan memudahkan mengolah data dalam membuat model kedepannya"
   ]
  },
  {
   "cell_type": "markdown",
   "metadata": {},
   "source": [
    "#### Mengecek Data Type dari masing-masing dataframe"
   ]
  },
  {
   "cell_type": "code",
   "execution_count": 8,
   "metadata": {},
   "outputs": [
    {
     "data": {
      "text/plain": [
       "hotel_id              object\n",
       "hotel_name            object\n",
       "hotel_description     object\n",
       "hotel_province        object\n",
       "hotel_city            object\n",
       "hotel_address         object\n",
       "price_per_night      float64\n",
       "dtype: object"
      ]
     },
     "execution_count": 8,
     "metadata": {},
     "output_type": "execute_result"
    }
   ],
   "source": [
    "hotel_df.dtypes"
   ]
  },
  {
   "cell_type": "code",
   "execution_count": 9,
   "metadata": {},
   "outputs": [
    {
     "data": {
      "text/plain": [
       "booking_id        object\n",
       "booking_date      object\n",
       "hotel_id          object\n",
       "hotel_name        object\n",
       "stay_duration      int64\n",
       "adults             int64\n",
       "children           int64\n",
       "rating           float64\n",
       "review            object\n",
       "dtype: object"
      ]
     },
     "execution_count": 9,
     "metadata": {},
     "output_type": "execute_result"
    }
   ],
   "source": [
    "review_df.dtypes"
   ]
  },
  {
   "cell_type": "code",
   "execution_count": 10,
   "metadata": {},
   "outputs": [
    {
     "data": {
      "text/plain": [
       "DKI Jakarta                   312\n",
       "Daerah Istimewa Yogyakarta    224\n",
       "Jawa Barat                    214\n",
       "Jawa Timur                    179\n",
       "Jawa Tengah                   179\n",
       "Sumatra Utara                  91\n",
       "Name: hotel_province, dtype: int64"
      ]
     },
     "execution_count": 10,
     "metadata": {},
     "output_type": "execute_result"
    }
   ],
   "source": [
    "# mengecek informasi terkait provinsi lokasi hotel pada dataset\n",
    "hotel_df['hotel_province'].value_counts()"
   ]
  },
  {
   "cell_type": "code",
   "execution_count": 11,
   "metadata": {},
   "outputs": [
    {
     "data": {
      "text/plain": [
       "10.0    1091\n",
       "9.6      507\n",
       "9.2      462\n",
       "8.0      459\n",
       "8.8      370\n",
       "8.4      347\n",
       "7.6      241\n",
       "7.2      156\n",
       "6.8      127\n",
       "6.0      106\n",
       "6.4       97\n",
       "5.6       72\n",
       "5.2       59\n",
       "4.8       53\n",
       "4.4       32\n",
       "2.0       30\n",
       "4.0       29\n",
       "3.6       27\n",
       "3.2       17\n",
       "2.8       15\n",
       "2.4        9\n",
       "Name: rating, dtype: int64"
      ]
     },
     "execution_count": 11,
     "metadata": {},
     "output_type": "execute_result"
    }
   ],
   "source": [
    "# mengecek informasi terkait rating yang diberikan customer\n",
    "review_df['rating'].value_counts()"
   ]
  },
  {
   "cell_type": "markdown",
   "metadata": {},
   "source": [
    "### __1. Data Cleansing__\n",
    "data cleansing merupakan bagian dari EDA, yang berfungsi membersihkan data yang tidak penting (misalnya data yang memiliki value NULL, empty, dst)\n"
   ]
  },
  {
   "cell_type": "markdown",
   "metadata": {},
   "source": [
    "##### Dropping and missing Value in DataFrame"
   ]
  },
  {
   "cell_type": "code",
   "execution_count": 12,
   "metadata": {},
   "outputs": [
    {
     "data": {
      "text/plain": [
       "hotel_id               0\n",
       "hotel_name             0\n",
       "hotel_description    101\n",
       "hotel_province         0\n",
       "hotel_city             0\n",
       "hotel_address          0\n",
       "price_per_night        6\n",
       "dtype: int64"
      ]
     },
     "execution_count": 12,
     "metadata": {},
     "output_type": "execute_result"
    }
   ],
   "source": [
    "# check data null\n",
    "hotel_df.isnull().sum()"
   ]
  },
  {
   "cell_type": "code",
   "execution_count": 13,
   "metadata": {},
   "outputs": [],
   "source": [
    "# change data null description to unknown\n",
    "hotel_df['hotel_description'] = hotel_df['hotel_description'].fillna('unknown')"
   ]
  },
  {
   "cell_type": "code",
   "execution_count": 14,
   "metadata": {},
   "outputs": [],
   "source": [
    "# change data null description to unknown\n",
    "hotel_df['price_per_night'] = hotel_df['price_per_night'].fillna(0)"
   ]
  },
  {
   "cell_type": "code",
   "execution_count": 15,
   "metadata": {
    "scrolled": true
   },
   "outputs": [
    {
     "data": {
      "text/plain": [
       "hotel_id             0\n",
       "hotel_name           0\n",
       "hotel_description    0\n",
       "hotel_province       0\n",
       "hotel_city           0\n",
       "hotel_address        0\n",
       "price_per_night      0\n",
       "dtype: int64"
      ]
     },
     "execution_count": 15,
     "metadata": {},
     "output_type": "execute_result"
    }
   ],
   "source": [
    "# check lagi apakah sudah clean dari data null\n",
    "hotel_df.isnull().sum()\n",
    "# print(hotel_df.dtypes)"
   ]
  },
  {
   "cell_type": "code",
   "execution_count": 16,
   "metadata": {},
   "outputs": [
    {
     "data": {
      "text/plain": [
       "booking_id         0\n",
       "booking_date       0\n",
       "hotel_id         473\n",
       "hotel_name         0\n",
       "stay_duration      0\n",
       "adults             0\n",
       "children           0\n",
       "rating             0\n",
       "review             0\n",
       "dtype: int64"
      ]
     },
     "execution_count": 16,
     "metadata": {},
     "output_type": "execute_result"
    }
   ],
   "source": [
    "# check data null\n",
    "review_df.isnull().sum()"
   ]
  },
  {
   "cell_type": "code",
   "execution_count": 17,
   "metadata": {},
   "outputs": [],
   "source": [
    "# delete hotel id yang bernilai null\n",
    "review_df = review_df.dropna()"
   ]
  },
  {
   "cell_type": "code",
   "execution_count": 18,
   "metadata": {},
   "outputs": [
    {
     "data": {
      "text/plain": [
       "booking_id       0\n",
       "booking_date     0\n",
       "hotel_id         0\n",
       "hotel_name       0\n",
       "stay_duration    0\n",
       "adults           0\n",
       "children         0\n",
       "rating           0\n",
       "review           0\n",
       "dtype: int64"
      ]
     },
     "execution_count": 18,
     "metadata": {},
     "output_type": "execute_result"
    }
   ],
   "source": [
    "# check lagi apakah sudah clean dari data null\n",
    "review_df.isnull().sum()"
   ]
  },
  {
   "cell_type": "code",
   "execution_count": 19,
   "metadata": {},
   "outputs": [
    {
     "name": "stdout",
     "output_type": "stream",
     "text": [
      "(1199, 7)\n",
      "(3833, 9)\n"
     ]
    }
   ],
   "source": [
    "# melihat dimensi (column, row) dari data frame yang sudah dibuat\n",
    "print(hotel_df.shape)\n",
    "print(review_df.shape)"
   ]
  },
  {
   "cell_type": "code",
   "execution_count": 20,
   "metadata": {},
   "outputs": [],
   "source": [
    "# mencari rata-rata rating tiap hotel\n",
    "mean_rating = review_df[['hotel_id', 'rating']].groupby(['hotel_id']).mean().reset_index()"
   ]
  },
  {
   "cell_type": "code",
   "execution_count": 21,
   "metadata": {},
   "outputs": [
    {
     "data": {
      "text/html": [
       "<div>\n",
       "<style scoped>\n",
       "    .dataframe tbody tr th:only-of-type {\n",
       "        vertical-align: middle;\n",
       "    }\n",
       "\n",
       "    .dataframe tbody tr th {\n",
       "        vertical-align: top;\n",
       "    }\n",
       "\n",
       "    .dataframe thead th {\n",
       "        text-align: right;\n",
       "    }\n",
       "</style>\n",
       "<table border=\"1\" class=\"dataframe\">\n",
       "  <thead>\n",
       "    <tr style=\"text-align: right;\">\n",
       "      <th></th>\n",
       "      <th>hotel_id</th>\n",
       "      <th>rating</th>\n",
       "    </tr>\n",
       "  </thead>\n",
       "  <tbody>\n",
       "    <tr>\n",
       "      <th>0</th>\n",
       "      <td>h0001</td>\n",
       "      <td>9.20</td>\n",
       "    </tr>\n",
       "    <tr>\n",
       "      <th>1</th>\n",
       "      <td>h0002</td>\n",
       "      <td>8.32</td>\n",
       "    </tr>\n",
       "    <tr>\n",
       "      <th>2</th>\n",
       "      <td>h0003</td>\n",
       "      <td>8.76</td>\n",
       "    </tr>\n",
       "    <tr>\n",
       "      <th>3</th>\n",
       "      <td>h0004</td>\n",
       "      <td>8.52</td>\n",
       "    </tr>\n",
       "    <tr>\n",
       "      <th>4</th>\n",
       "      <td>h0005</td>\n",
       "      <td>8.04</td>\n",
       "    </tr>\n",
       "  </tbody>\n",
       "</table>\n",
       "</div>"
      ],
      "text/plain": [
       "  hotel_id  rating\n",
       "0    h0001    9.20\n",
       "1    h0002    8.32\n",
       "2    h0003    8.76\n",
       "3    h0004    8.52\n",
       "4    h0005    8.04"
      ]
     },
     "execution_count": 21,
     "metadata": {},
     "output_type": "execute_result"
    }
   ],
   "source": [
    "mean_rating.head()"
   ]
  },
  {
   "cell_type": "markdown",
   "metadata": {},
   "source": [
    "### __2. Nilai Review__\n",
    "Dataset __review_df__ bisa digunakan untuk mendapatkan jumlah __kapasitas kamar__ maksimal sehingga mendapatkan __service provider__ seperti apa yang disediakan oleh masing-masing hotel sehingga customer dengan leluasa melihat sebagus apa pelayanan hotel tersebut dan selain itu bisa digunakan oleh pihak perusahaan untuk mendapatkan rata-rata rating dari hotel mereka.\n"
   ]
  },
  {
   "cell_type": "code",
   "execution_count": 22,
   "metadata": {},
   "outputs": [],
   "source": [
    "# total person masing-masing hotel setiap order\n",
    "review_df['total_person_room'] = review_df['adults'] + review_df['children']"
   ]
  },
  {
   "cell_type": "code",
   "execution_count": 23,
   "metadata": {},
   "outputs": [
    {
     "data": {
      "text/html": [
       "<div>\n",
       "<style scoped>\n",
       "    .dataframe tbody tr th:only-of-type {\n",
       "        vertical-align: middle;\n",
       "    }\n",
       "\n",
       "    .dataframe tbody tr th {\n",
       "        vertical-align: top;\n",
       "    }\n",
       "\n",
       "    .dataframe thead th {\n",
       "        text-align: right;\n",
       "    }\n",
       "</style>\n",
       "<table border=\"1\" class=\"dataframe\">\n",
       "  <thead>\n",
       "    <tr style=\"text-align: right;\">\n",
       "      <th></th>\n",
       "      <th>booking_id</th>\n",
       "      <th>booking_date</th>\n",
       "      <th>hotel_id</th>\n",
       "      <th>hotel_name</th>\n",
       "      <th>stay_duration</th>\n",
       "      <th>adults</th>\n",
       "      <th>children</th>\n",
       "      <th>rating</th>\n",
       "      <th>review</th>\n",
       "      <th>total_person_room</th>\n",
       "    </tr>\n",
       "  </thead>\n",
       "  <tbody>\n",
       "    <tr>\n",
       "      <th>0</th>\n",
       "      <td>b0001</td>\n",
       "      <td>19-04-2020</td>\n",
       "      <td>h0014</td>\n",
       "      <td>Zest Hotel Jemursari Surabaya</td>\n",
       "      <td>1</td>\n",
       "      <td>2</td>\n",
       "      <td>1</td>\n",
       "      <td>8.4</td>\n",
       "      <td>Short stay</td>\n",
       "      <td>3</td>\n",
       "    </tr>\n",
       "    <tr>\n",
       "      <th>1</th>\n",
       "      <td>b0002</td>\n",
       "      <td>06-04-2020</td>\n",
       "      <td>h0014</td>\n",
       "      <td>Zest Hotel Jemursari Surabaya</td>\n",
       "      <td>1</td>\n",
       "      <td>1</td>\n",
       "      <td>1</td>\n",
       "      <td>10.0</td>\n",
       "      <td>Hotelnya nyaman</td>\n",
       "      <td>2</td>\n",
       "    </tr>\n",
       "    <tr>\n",
       "      <th>2</th>\n",
       "      <td>b0003</td>\n",
       "      <td>24-03-2020</td>\n",
       "      <td>h0014</td>\n",
       "      <td>Zest Hotel Jemursari Surabaya</td>\n",
       "      <td>2</td>\n",
       "      <td>2</td>\n",
       "      <td>1</td>\n",
       "      <td>9.2</td>\n",
       "      <td>Cukup baik untuk transit</td>\n",
       "      <td>3</td>\n",
       "    </tr>\n",
       "    <tr>\n",
       "      <th>3</th>\n",
       "      <td>b0004</td>\n",
       "      <td>23-03-2020</td>\n",
       "      <td>h0014</td>\n",
       "      <td>Zest Hotel Jemursari Surabaya</td>\n",
       "      <td>1</td>\n",
       "      <td>2</td>\n",
       "      <td>0</td>\n",
       "      <td>9.2</td>\n",
       "      <td>Nyaman</td>\n",
       "      <td>2</td>\n",
       "    </tr>\n",
       "    <tr>\n",
       "      <th>4</th>\n",
       "      <td>b0005</td>\n",
       "      <td>14-03-2020</td>\n",
       "      <td>h0014</td>\n",
       "      <td>Zest Hotel Jemursari Surabaya</td>\n",
       "      <td>2</td>\n",
       "      <td>2</td>\n",
       "      <td>1</td>\n",
       "      <td>6.8</td>\n",
       "      <td>Not good</td>\n",
       "      <td>3</td>\n",
       "    </tr>\n",
       "  </tbody>\n",
       "</table>\n",
       "</div>"
      ],
      "text/plain": [
       "  booking_id booking_date hotel_id                     hotel_name  \\\n",
       "0      b0001   19-04-2020    h0014  Zest Hotel Jemursari Surabaya   \n",
       "1      b0002   06-04-2020    h0014  Zest Hotel Jemursari Surabaya   \n",
       "2      b0003   24-03-2020    h0014  Zest Hotel Jemursari Surabaya   \n",
       "3      b0004   23-03-2020    h0014  Zest Hotel Jemursari Surabaya   \n",
       "4      b0005   14-03-2020    h0014  Zest Hotel Jemursari Surabaya   \n",
       "\n",
       "   stay_duration  adults  children  rating                    review  \\\n",
       "0              1       2         1     8.4                Short stay   \n",
       "1              1       1         1    10.0           Hotelnya nyaman   \n",
       "2              2       2         1     9.2  Cukup baik untuk transit   \n",
       "3              1       2         0     9.2                    Nyaman   \n",
       "4              2       2         1     6.8                  Not good   \n",
       "\n",
       "   total_person_room  \n",
       "0                  3  \n",
       "1                  2  \n",
       "2                  3  \n",
       "3                  2  \n",
       "4                  3  "
      ]
     },
     "execution_count": 23,
     "metadata": {},
     "output_type": "execute_result"
    }
   ],
   "source": [
    "review_df.head()"
   ]
  },
  {
   "cell_type": "code",
   "execution_count": 24,
   "metadata": {},
   "outputs": [],
   "source": [
    "# service provide dibagi standar room and deluxe room\n",
    "\n",
    "list_hotel = mean_rating['hotel_id'].values.tolist()\n",
    "max_person = []\n",
    "service_provide = []\n",
    "\n",
    "for i in list_hotel:\n",
    "    m = review_df['total_person_room'].loc[review_df['hotel_id'] == i].max()\n",
    "    max_person.append(m)\n",
    "    if m < 3:\n",
    "        service_provide.append('Standar Room')\n",
    "    else:\n",
    "            service_provide.append('Standar Room, Family Room')\n",
    "            \n",
    "data_service = {'hotel_id' : list_hotel,\n",
    "       'max_person': max_person,\n",
    "       'service_provide': service_provide}"
   ]
  },
  {
   "cell_type": "code",
   "execution_count": 25,
   "metadata": {},
   "outputs": [
    {
     "data": {
      "text/html": [
       "<div>\n",
       "<style scoped>\n",
       "    .dataframe tbody tr th:only-of-type {\n",
       "        vertical-align: middle;\n",
       "    }\n",
       "\n",
       "    .dataframe tbody tr th {\n",
       "        vertical-align: top;\n",
       "    }\n",
       "\n",
       "    .dataframe thead th {\n",
       "        text-align: right;\n",
       "    }\n",
       "</style>\n",
       "<table border=\"1\" class=\"dataframe\">\n",
       "  <thead>\n",
       "    <tr style=\"text-align: right;\">\n",
       "      <th></th>\n",
       "      <th>hotel_id</th>\n",
       "      <th>max_person</th>\n",
       "      <th>service_provide</th>\n",
       "    </tr>\n",
       "  </thead>\n",
       "  <tbody>\n",
       "    <tr>\n",
       "      <th>204</th>\n",
       "      <td>h0554</td>\n",
       "      <td>4</td>\n",
       "      <td>Standar Room, Family Room</td>\n",
       "    </tr>\n",
       "    <tr>\n",
       "      <th>231</th>\n",
       "      <td>h0584</td>\n",
       "      <td>4</td>\n",
       "      <td>Standar Room, Family Room</td>\n",
       "    </tr>\n",
       "    <tr>\n",
       "      <th>253</th>\n",
       "      <td>h0607</td>\n",
       "      <td>4</td>\n",
       "      <td>Standar Room, Family Room</td>\n",
       "    </tr>\n",
       "    <tr>\n",
       "      <th>252</th>\n",
       "      <td>h0606</td>\n",
       "      <td>4</td>\n",
       "      <td>Standar Room, Family Room</td>\n",
       "    </tr>\n",
       "    <tr>\n",
       "      <th>251</th>\n",
       "      <td>h0604</td>\n",
       "      <td>4</td>\n",
       "      <td>Standar Room, Family Room</td>\n",
       "    </tr>\n",
       "  </tbody>\n",
       "</table>\n",
       "</div>"
      ],
      "text/plain": [
       "    hotel_id  max_person            service_provide\n",
       "204    h0554           4  Standar Room, Family Room\n",
       "231    h0584           4  Standar Room, Family Room\n",
       "253    h0607           4  Standar Room, Family Room\n",
       "252    h0606           4  Standar Room, Family Room\n",
       "251    h0604           4  Standar Room, Family Room"
      ]
     },
     "execution_count": 25,
     "metadata": {},
     "output_type": "execute_result"
    }
   ],
   "source": [
    "person_df = pd.DataFrame(data_service).sort_values(by=['max_person'], ascending=False)\n",
    "person_df.head()"
   ]
  },
  {
   "cell_type": "code",
   "execution_count": 26,
   "metadata": {},
   "outputs": [
    {
     "data": {
      "text/html": [
       "<div>\n",
       "<style scoped>\n",
       "    .dataframe tbody tr th:only-of-type {\n",
       "        vertical-align: middle;\n",
       "    }\n",
       "\n",
       "    .dataframe tbody tr th {\n",
       "        vertical-align: top;\n",
       "    }\n",
       "\n",
       "    .dataframe thead th {\n",
       "        text-align: right;\n",
       "    }\n",
       "</style>\n",
       "<table border=\"1\" class=\"dataframe\">\n",
       "  <thead>\n",
       "    <tr style=\"text-align: right;\">\n",
       "      <th></th>\n",
       "      <th>hotel_id</th>\n",
       "      <th>rating</th>\n",
       "      <th>max_person</th>\n",
       "      <th>service_provide</th>\n",
       "    </tr>\n",
       "  </thead>\n",
       "  <tbody>\n",
       "    <tr>\n",
       "      <th>0</th>\n",
       "      <td>h0001</td>\n",
       "      <td>9.20</td>\n",
       "      <td>3</td>\n",
       "      <td>Standar Room, Family Room</td>\n",
       "    </tr>\n",
       "    <tr>\n",
       "      <th>1</th>\n",
       "      <td>h0002</td>\n",
       "      <td>8.32</td>\n",
       "      <td>3</td>\n",
       "      <td>Standar Room, Family Room</td>\n",
       "    </tr>\n",
       "    <tr>\n",
       "      <th>2</th>\n",
       "      <td>h0003</td>\n",
       "      <td>8.76</td>\n",
       "      <td>3</td>\n",
       "      <td>Standar Room, Family Room</td>\n",
       "    </tr>\n",
       "    <tr>\n",
       "      <th>3</th>\n",
       "      <td>h0004</td>\n",
       "      <td>8.52</td>\n",
       "      <td>3</td>\n",
       "      <td>Standar Room, Family Room</td>\n",
       "    </tr>\n",
       "    <tr>\n",
       "      <th>4</th>\n",
       "      <td>h0005</td>\n",
       "      <td>8.04</td>\n",
       "      <td>3</td>\n",
       "      <td>Standar Room, Family Room</td>\n",
       "    </tr>\n",
       "  </tbody>\n",
       "</table>\n",
       "</div>"
      ],
      "text/plain": [
       "  hotel_id  rating  max_person            service_provide\n",
       "0    h0001    9.20           3  Standar Room, Family Room\n",
       "1    h0002    8.32           3  Standar Room, Family Room\n",
       "2    h0003    8.76           3  Standar Room, Family Room\n",
       "3    h0004    8.52           3  Standar Room, Family Room\n",
       "4    h0005    8.04           3  Standar Room, Family Room"
      ]
     },
     "execution_count": 26,
     "metadata": {},
     "output_type": "execute_result"
    }
   ],
   "source": [
    "# merge tabel rata-rata rating setiap hotel dengan service provide\n",
    "ratinghotel_df = pd.merge(mean_rating, person_df, on='hotel_id', how='left')\n",
    "ratinghotel_df.head()"
   ]
  },
  {
   "cell_type": "code",
   "execution_count": 27,
   "metadata": {},
   "outputs": [
    {
     "data": {
      "text/html": [
       "<div>\n",
       "<style scoped>\n",
       "    .dataframe tbody tr th:only-of-type {\n",
       "        vertical-align: middle;\n",
       "    }\n",
       "\n",
       "    .dataframe tbody tr th {\n",
       "        vertical-align: top;\n",
       "    }\n",
       "\n",
       "    .dataframe thead th {\n",
       "        text-align: right;\n",
       "    }\n",
       "</style>\n",
       "<table border=\"1\" class=\"dataframe\">\n",
       "  <thead>\n",
       "    <tr style=\"text-align: right;\">\n",
       "      <th></th>\n",
       "      <th>hotel_id</th>\n",
       "      <th>hotel_name</th>\n",
       "      <th>hotel_description</th>\n",
       "      <th>hotel_province</th>\n",
       "      <th>hotel_city</th>\n",
       "      <th>hotel_address</th>\n",
       "      <th>price_per_night</th>\n",
       "      <th>rating</th>\n",
       "      <th>max_person</th>\n",
       "      <th>service_provide</th>\n",
       "    </tr>\n",
       "  </thead>\n",
       "  <tbody>\n",
       "    <tr>\n",
       "      <th>0</th>\n",
       "      <td>h0001</td>\n",
       "      <td>Midtown Residence Marvell City Surabaya</td>\n",
       "      <td>unknown</td>\n",
       "      <td>Jawa Timur</td>\n",
       "      <td>Surabaya</td>\n",
       "      <td>Jalan Ngagel Raya No 123</td>\n",
       "      <td>527866.666667</td>\n",
       "      <td>9.20</td>\n",
       "      <td>3.0</td>\n",
       "      <td>Standar Room, Family Room</td>\n",
       "    </tr>\n",
       "    <tr>\n",
       "      <th>1</th>\n",
       "      <td>h0002</td>\n",
       "      <td>favehotel Graha Agung Surabaya</td>\n",
       "      <td>Sebuah Hotel Mewah di Surabaya Persembahan dar...</td>\n",
       "      <td>Jawa Timur</td>\n",
       "      <td>Surabaya</td>\n",
       "      <td>Jl. Mayjen Yono Soewoyo Pakuwon Indah Square A...</td>\n",
       "      <td>442860.000000</td>\n",
       "      <td>8.32</td>\n",
       "      <td>3.0</td>\n",
       "      <td>Standar Room, Family Room</td>\n",
       "    </tr>\n",
       "    <tr>\n",
       "      <th>2</th>\n",
       "      <td>h0003</td>\n",
       "      <td>The Sun Hotel Sidoarjo</td>\n",
       "      <td>Hotel Bintang 3 Pertama dan Satu-satunya di Si...</td>\n",
       "      <td>Jawa Timur</td>\n",
       "      <td>Surabaya</td>\n",
       "      <td>Jl. Pahlawan No.1,Sidokumpul, Sidoarjo, Suraba...</td>\n",
       "      <td>305000.000000</td>\n",
       "      <td>8.76</td>\n",
       "      <td>3.0</td>\n",
       "      <td>Standar Room, Family Room</td>\n",
       "    </tr>\n",
       "    <tr>\n",
       "      <th>3</th>\n",
       "      <td>h0004</td>\n",
       "      <td>Grand Surabaya Hotel</td>\n",
       "      <td>Penginapan Yang Tenang Dan Nyaman Di Surabaya.</td>\n",
       "      <td>Jawa Timur</td>\n",
       "      <td>Surabaya</td>\n",
       "      <td>Jl. Pemuda 19-21, Surabaya, Indonesia</td>\n",
       "      <td>324999.333333</td>\n",
       "      <td>8.52</td>\n",
       "      <td>3.0</td>\n",
       "      <td>Standar Room, Family Room</td>\n",
       "    </tr>\n",
       "    <tr>\n",
       "      <th>4</th>\n",
       "      <td>h0005</td>\n",
       "      <td>The WIN Hotel Surabaya</td>\n",
       "      <td>WIN Hotel adalah hotel smart bintang 3 yang me...</td>\n",
       "      <td>Jawa Timur</td>\n",
       "      <td>Surabaya</td>\n",
       "      <td>Jl. Embong Tanjung 46 - 48 Surabaya, Jawa Timu...</td>\n",
       "      <td>310947.250000</td>\n",
       "      <td>8.04</td>\n",
       "      <td>3.0</td>\n",
       "      <td>Standar Room, Family Room</td>\n",
       "    </tr>\n",
       "  </tbody>\n",
       "</table>\n",
       "</div>"
      ],
      "text/plain": [
       "  hotel_id                               hotel_name  \\\n",
       "0    h0001  Midtown Residence Marvell City Surabaya   \n",
       "1    h0002           favehotel Graha Agung Surabaya   \n",
       "2    h0003                   The Sun Hotel Sidoarjo   \n",
       "3    h0004                     Grand Surabaya Hotel   \n",
       "4    h0005                   The WIN Hotel Surabaya   \n",
       "\n",
       "                                   hotel_description hotel_province  \\\n",
       "0                                            unknown     Jawa Timur   \n",
       "1  Sebuah Hotel Mewah di Surabaya Persembahan dar...     Jawa Timur   \n",
       "2  Hotel Bintang 3 Pertama dan Satu-satunya di Si...     Jawa Timur   \n",
       "3     Penginapan Yang Tenang Dan Nyaman Di Surabaya.     Jawa Timur   \n",
       "4  WIN Hotel adalah hotel smart bintang 3 yang me...     Jawa Timur   \n",
       "\n",
       "  hotel_city                                      hotel_address  \\\n",
       "0   Surabaya                           Jalan Ngagel Raya No 123   \n",
       "1   Surabaya  Jl. Mayjen Yono Soewoyo Pakuwon Indah Square A...   \n",
       "2   Surabaya  Jl. Pahlawan No.1,Sidokumpul, Sidoarjo, Suraba...   \n",
       "3   Surabaya              Jl. Pemuda 19-21, Surabaya, Indonesia   \n",
       "4   Surabaya  Jl. Embong Tanjung 46 - 48 Surabaya, Jawa Timu...   \n",
       "\n",
       "   price_per_night  rating  max_person            service_provide  \n",
       "0    527866.666667    9.20         3.0  Standar Room, Family Room  \n",
       "1    442860.000000    8.32         3.0  Standar Room, Family Room  \n",
       "2    305000.000000    8.76         3.0  Standar Room, Family Room  \n",
       "3    324999.333333    8.52         3.0  Standar Room, Family Room  \n",
       "4    310947.250000    8.04         3.0  Standar Room, Family Room  "
      ]
     },
     "execution_count": 27,
     "metadata": {},
     "output_type": "execute_result"
    }
   ],
   "source": [
    "# menggabungkan semua dataframe yang sudah ada menjadi data yang sudah bersih\n",
    "hotel_final = pd.merge(hotel_df, ratinghotel_df, on='hotel_id', how='left')\n",
    "hotel_final.head()"
   ]
  },
  {
   "cell_type": "code",
   "execution_count": 28,
   "metadata": {},
   "outputs": [
    {
     "data": {
      "text/plain": [
       "hotel_id               0\n",
       "hotel_name             0\n",
       "hotel_description      0\n",
       "hotel_province         0\n",
       "hotel_city             0\n",
       "hotel_address          0\n",
       "price_per_night        0\n",
       "rating               791\n",
       "max_person           791\n",
       "service_provide      791\n",
       "dtype: int64"
      ]
     },
     "execution_count": 28,
     "metadata": {},
     "output_type": "execute_result"
    }
   ],
   "source": [
    "hotel_final.isnull().sum()"
   ]
  },
  {
   "cell_type": "code",
   "execution_count": 29,
   "metadata": {},
   "outputs": [],
   "source": [
    "hotel_final['rating'] = hotel_final['rating'].fillna(0)\n",
    "# change data null description to unknown\n",
    "# hotel_final['hotel_description'] = hotel_final['hotel_description'].fillna('unknown')\n",
    "hotel_final['max_person'] = hotel_final['max_person'].fillna(2)\n",
    "hotel_final['service_provide'] = hotel_final['service_provide'].fillna('Standar Room')"
   ]
  },
  {
   "cell_type": "code",
   "execution_count": 30,
   "metadata": {
    "scrolled": true
   },
   "outputs": [
    {
     "data": {
      "text/plain": [
       "hotel_id             0\n",
       "hotel_name           0\n",
       "hotel_description    0\n",
       "hotel_province       0\n",
       "hotel_city           0\n",
       "hotel_address        0\n",
       "price_per_night      0\n",
       "rating               0\n",
       "max_person           0\n",
       "service_provide      0\n",
       "dtype: int64"
      ]
     },
     "execution_count": 30,
     "metadata": {},
     "output_type": "execute_result"
    }
   ],
   "source": [
    "hotel_final.isnull().sum()"
   ]
  },
  {
   "cell_type": "code",
   "execution_count": 31,
   "metadata": {},
   "outputs": [
    {
     "data": {
      "text/plain": [
       "Index(['hotel_id', 'hotel_name', 'hotel_description', 'hotel_province',\n",
       "       'hotel_city', 'hotel_address', 'price_per_night', 'rating',\n",
       "       'max_person', 'service_provide'],\n",
       "      dtype='object')"
      ]
     },
     "execution_count": 31,
     "metadata": {},
     "output_type": "execute_result"
    }
   ],
   "source": [
    "hotel_final.columns"
   ]
  },
  {
   "cell_type": "code",
   "execution_count": 32,
   "metadata": {},
   "outputs": [
    {
     "data": {
      "image/png": "[encoded data removed]",
      "text/plain": [
       "<Figure size 1080x360 with 1 Axes>"
      ]
     },
     "metadata": {
      "needs_background": "light"
     },
     "output_type": "display_data"
    }
   ],
   "source": [
    "plt.rcParams[\"figure.figsize\"] = [15,5]\n",
    "\n",
    "df_rt = hotel_final[['hotel_city','rating']].loc[hotel_final['rating'] != 0].groupby(['hotel_city']).mean().reset_index().sort_values(by='rating')\n",
    "df_rt['rating'] = round(df_rt['rating'],2)\n",
    "ax = df_rt.plot(kind='bar',x='hotel_city',y='rating',title='Jumlah Rata-Rata Rating based on City')\n",
    "\n",
    "for p in ax.patches:\n",
    "    ax.annotate(str(p.get_height()), (p.get_x()*1.005, p.get_height()*1.005))"
   ]
  },
  {
   "cell_type": "markdown",
   "metadata": {},
   "source": [
    "Dari grafik diatas dapat kita rangkumkan bahwa setiap kota memiliki rating yang tinggi diatas __7__, dengan rating paling tinggi berada di kota Malang (__8.84__) dan rating paling rendah di Jakarta Barat (__7.98__) hal ini membuktikan bahwa, customer sastification pada kota malang untuk menginal dihotel sangat lah tinggi, bisa dinilai dari beberapa aspek terhadap hotel-hotel yang ada di Malang tersebut"
   ]
  },
  {
   "cell_type": "code",
   "execution_count": 33,
   "metadata": {},
   "outputs": [
    {
     "data": {
      "image/png": "[encoded data removed]",
      "text/plain": [
       "<Figure size 1080x360 with 1 Axes>"
      ]
     },
     "metadata": {
      "needs_background": "light"
     },
     "output_type": "display_data"
    }
   ],
   "source": [
    "ax = hotel_final.groupby('hotel_province') ['hotel_name'].nunique().sort_values().plot(kind='bar',title='Jumlah Hotel Berdasarkan Provinsi')\n",
    "for p in ax.patches:\n",
    "    ax.annotate(str(p.get_height()), (p.get_x() * 1.005, p.get_height() * 1.005))"
   ]
  },
  {
   "cell_type": "markdown",
   "metadata": {},
   "source": [
    "Informasi berdasarkan jumlah pada data bahwa total hotel paling rendah ada di __Sumatera Utara__ dengan jumlah 91, sedangkan jumlah yang terbanyak ada pada provinsi __DKI Jakarta__"
   ]
  },
  {
   "cell_type": "code",
   "execution_count": 34,
   "metadata": {},
   "outputs": [
    {
     "data": {
      "image/png": "[encoded data removed]",
      "text/plain": [
       "<Figure size 1080x360 with 1 Axes>"
      ]
     },
     "metadata": {
      "needs_background": "light"
     },
     "output_type": "display_data"
    }
   ],
   "source": [
    "ax = hotel_final.groupby('hotel_city')['hotel_name'].nunique().sort_values().plot(kind='bar',title= 'Jumlah Hotel Berdasarkan Kota')\n",
    "for p in ax.patches:\n",
    "    ax.annotate(str(p.get_height()), (p.get_x() * 1.005, p.get_height() * 1.005))"
   ]
  },
  {
   "cell_type": "markdown",
   "metadata": {},
   "source": [
    "Dari Grafik diatas didapatkan informasi Jumlah Hotel Berdasarkan kota, paling banyak ada di kota Jogja dengan jumlah __448__ hotel\n",
    "dan paling rendah ada di kota Jakarta Utara dengan jumlah __46__ hotel."
   ]
  },
  {
   "cell_type": "code",
   "execution_count": 35,
   "metadata": {},
   "outputs": [
    {
     "data": {
      "image/png": "[encoded data removed]",
      "text/plain": [
       "<Figure size 1080x360 with 1 Axes>"
      ]
     },
     "metadata": {
      "needs_background": "light"
     },
     "output_type": "display_data"
    }
   ],
   "source": [
    "df_ht = hotel_final.groupby('hotel_province')['price_per_night'].mean().sort_values()\n",
    "df_ht = round(df_ht)\n",
    "ax = df_ht.plot(kind='bar',title='Harga Rata Rata Hotel Berdasarkan Kota')\n",
    "for p in ax.patches:\n",
    "    ax.annotate(str(p.get_height()), (p.get_x() * 1.005, p.get_height() * 1.005))"
   ]
  },
  {
   "cell_type": "markdown",
   "metadata": {},
   "source": [
    "Informasi yang didapat diatas bahwa rata-rata harga permalam kamar hotel yang paling tertinggi ada di __DKI Jakarta__ dengan harga __Rp. 513.994__ dan terendah ada di __Sumatera Utara__ dengan harga __Rp. 337.679__"
   ]
  },
  {
   "cell_type": "code",
   "execution_count": 36,
   "metadata": {},
   "outputs": [
    {
     "data": {
      "image/png": "[encoded data removed]",
      "text/plain": [
       "<Figure size 1080x360 with 1 Axes>"
      ]
     },
     "metadata": {
      "needs_background": "light"
     },
     "output_type": "display_data"
    }
   ],
   "source": [
    "df_ht = hotel_final.groupby('hotel_city')['price_per_night'].mean().sort_values()\n",
    "df_ht = round(df_ht)\n",
    "ax = df_ht.plot(kind='bar',title='Harga Rata Rata Hotel Berdasarkan Kota')\n",
    "for p in ax.patches:\n",
    "    ax.annotate(str(p.get_height()), (p.get_x() * 1.005, p.get_height() * 1.005))\n"
   ]
  },
  {
   "cell_type": "code",
   "execution_count": 37,
   "metadata": {},
   "outputs": [],
   "source": [
    "# mendapatkan tahun dari data review_hotel\n",
    "review_df['year'] = pd.DatetimeIndex(review_df['booking_date']).year"
   ]
  },
  {
   "cell_type": "code",
   "execution_count": 38,
   "metadata": {},
   "outputs": [
    {
     "data": {
      "text/html": [
       "<div>\n",
       "<style scoped>\n",
       "    .dataframe tbody tr th:only-of-type {\n",
       "        vertical-align: middle;\n",
       "    }\n",
       "\n",
       "    .dataframe tbody tr th {\n",
       "        vertical-align: top;\n",
       "    }\n",
       "\n",
       "    .dataframe thead th {\n",
       "        text-align: right;\n",
       "    }\n",
       "</style>\n",
       "<table border=\"1\" class=\"dataframe\">\n",
       "  <thead>\n",
       "    <tr style=\"text-align: right;\">\n",
       "      <th></th>\n",
       "      <th>year</th>\n",
       "      <th>hotel_city</th>\n",
       "    </tr>\n",
       "  </thead>\n",
       "  <tbody>\n",
       "    <tr>\n",
       "      <th>0</th>\n",
       "      <td>2020</td>\n",
       "      <td>Surabaya</td>\n",
       "    </tr>\n",
       "    <tr>\n",
       "      <th>1</th>\n",
       "      <td>2020</td>\n",
       "      <td>Surabaya</td>\n",
       "    </tr>\n",
       "    <tr>\n",
       "      <th>2</th>\n",
       "      <td>2020</td>\n",
       "      <td>Surabaya</td>\n",
       "    </tr>\n",
       "    <tr>\n",
       "      <th>3</th>\n",
       "      <td>2020</td>\n",
       "      <td>Surabaya</td>\n",
       "    </tr>\n",
       "    <tr>\n",
       "      <th>4</th>\n",
       "      <td>2020</td>\n",
       "      <td>Surabaya</td>\n",
       "    </tr>\n",
       "  </tbody>\n",
       "</table>\n",
       "</div>"
      ],
      "text/plain": [
       "   year hotel_city\n",
       "0  2020   Surabaya\n",
       "1  2020   Surabaya\n",
       "2  2020   Surabaya\n",
       "3  2020   Surabaya\n",
       "4  2020   Surabaya"
      ]
     },
     "execution_count": 38,
     "metadata": {},
     "output_type": "execute_result"
    }
   ],
   "source": [
    "df_year = pd.merge(review_df[['hotel_id','year']],hotel_final[['hotel_id','hotel_city']],on='hotel_id', how='left')\n",
    "df_year = df_year.drop('hotel_id',axis=1)\n",
    "df_year.head()"
   ]
  },
  {
   "cell_type": "code",
   "execution_count": 39,
   "metadata": {},
   "outputs": [
    {
     "data": {
      "text/plain": [
       "<matplotlib.axes._subplots.AxesSubplot at 0x17da19e2548>"
      ]
     },
     "execution_count": 39,
     "metadata": {},
     "output_type": "execute_result"
    },
    {
     "data": {
      "image/png": "[encoded data removed]",
      "text/plain": [
       "<Figure size 1080x360 with 1 Axes>"
      ]
     },
     "metadata": {
      "needs_background": "light"
     },
     "output_type": "display_data"
    }
   ],
   "source": [
    "review_df['day'] = pd.DatetimeIndex(review_df['booking_date']).day_name()\n",
    "review_df['day'].value_counts().plot(kind='bar',title='Jumlah Pesanan Hotel Per Hari')"
   ]
  },
  {
   "cell_type": "markdown",
   "metadata": {},
   "source": [
    "Dari grafik diatas didapatkan informasi Jumlah pesanan hotel berdasarkan hari. Pesanan paling tinggi ada di hari Senin dan paling\n",
    "rendah ada di hari __Sabtu__"
   ]
  },
  {
   "cell_type": "markdown",
   "metadata": {},
   "source": [
    "__Case 1__\n",
    "Sistem Rekomendasi berdasrkan service dan lokasi, Mendapatkan informasi hotel yang memiliki service Family Room di Jawa Timur Kota Surabaya"
   ]
  },
  {
   "cell_type": "code",
   "execution_count": 40,
   "metadata": {},
   "outputs": [],
   "source": [
    "def hotel_recommender_1(service,province,city,top=5):\n",
    "    result = hotel_final[hotel_final['service_provide'].str.contains(service)][(hotel_final['hotel_province'] == province) & (hotel_final['hotel_city'] == city)].copy()\n",
    "    result = result.sort_values(by=['price_per_night','rating'],ascending=[True,False])\n",
    "    result=result.drop('max_person',axis=1)\n",
    "    result=result[:top]\n",
    "    return(result)"
   ]
  },
  {
   "cell_type": "code",
   "execution_count": 41,
   "metadata": {},
   "outputs": [
    {
     "name": "stderr",
     "output_type": "stream",
     "text": [
      "C:\\Users\\imam.munandar\\Anaconda3\\lib\\site-packages\\ipykernel_launcher.py:2: UserWarning: Boolean Series key will be reindexed to match DataFrame index.\n",
      "  \n"
     ]
    },
    {
     "data": {
      "text/html": [
       "<div>\n",
       "<style scoped>\n",
       "    .dataframe tbody tr th:only-of-type {\n",
       "        vertical-align: middle;\n",
       "    }\n",
       "\n",
       "    .dataframe tbody tr th {\n",
       "        vertical-align: top;\n",
       "    }\n",
       "\n",
       "    .dataframe thead th {\n",
       "        text-align: right;\n",
       "    }\n",
       "</style>\n",
       "<table border=\"1\" class=\"dataframe\">\n",
       "  <thead>\n",
       "    <tr style=\"text-align: right;\">\n",
       "      <th></th>\n",
       "      <th>hotel_id</th>\n",
       "      <th>hotel_name</th>\n",
       "      <th>hotel_description</th>\n",
       "      <th>hotel_province</th>\n",
       "      <th>hotel_city</th>\n",
       "      <th>hotel_address</th>\n",
       "      <th>price_per_night</th>\n",
       "      <th>rating</th>\n",
       "      <th>service_provide</th>\n",
       "    </tr>\n",
       "  </thead>\n",
       "  <tbody>\n",
       "    <tr>\n",
       "      <th>14</th>\n",
       "      <td>h0015</td>\n",
       "      <td>The Life Hotel Surabaya</td>\n",
       "      <td>Akomodasi yang Ideal untuk Pebisnis, Wisatawan...</td>\n",
       "      <td>Jawa Timur</td>\n",
       "      <td>Surabaya</td>\n",
       "      <td>Jl. Kusuma Bangsa No.41, Surabaya, Indonesia</td>\n",
       "      <td>151496.000000</td>\n",
       "      <td>7.96</td>\n",
       "      <td>Standar Room, Family Room</td>\n",
       "    </tr>\n",
       "    <tr>\n",
       "      <th>30</th>\n",
       "      <td>h0031</td>\n",
       "      <td>Hotel 88 Embong Malang</td>\n",
       "      <td>Memberikan Harga yang  Murah dan Suasana Nyaman</td>\n",
       "      <td>Jawa Timur</td>\n",
       "      <td>Surabaya</td>\n",
       "      <td>Jl. Embong Malang No.84, Surabaya</td>\n",
       "      <td>231033.333333</td>\n",
       "      <td>8.16</td>\n",
       "      <td>Standar Room, Family Room</td>\n",
       "    </tr>\n",
       "    <tr>\n",
       "      <th>39</th>\n",
       "      <td>h0040</td>\n",
       "      <td>Hotel 88 Kedungsari ( Kedungdoro )</td>\n",
       "      <td>Penginapan Yang Tenang Dan Nyaman di Tegalsari.</td>\n",
       "      <td>Jawa Timur</td>\n",
       "      <td>Surabaya</td>\n",
       "      <td>Jl. Kedungsari No. 76 - 78, Tegalsari, Surabay...</td>\n",
       "      <td>236833.333333</td>\n",
       "      <td>7.76</td>\n",
       "      <td>Standar Room, Family Room</td>\n",
       "    </tr>\n",
       "    <tr>\n",
       "      <th>11</th>\n",
       "      <td>h0012</td>\n",
       "      <td>News Front One Hotel Surabaya</td>\n",
       "      <td>Rasakan keramahan kota Surabaya di News Hotel ...</td>\n",
       "      <td>Jawa Timur</td>\n",
       "      <td>Surabaya</td>\n",
       "      <td>Jl. Pondok Maspion Blok S No. 1, Pepelegi, War...</td>\n",
       "      <td>239118.333333</td>\n",
       "      <td>7.48</td>\n",
       "      <td>Standar Room, Family Room</td>\n",
       "    </tr>\n",
       "    <tr>\n",
       "      <th>29</th>\n",
       "      <td>h0030</td>\n",
       "      <td>Front One Inn Sidoarjo</td>\n",
       "      <td>Penginapan Yang Tenang Dan Nyaman di Sidoarjo.</td>\n",
       "      <td>Jawa Timur</td>\n",
       "      <td>Surabaya</td>\n",
       "      <td>Jl. Trunojoyo No. 41, Sidoarjo, Jawa Timur, In...</td>\n",
       "      <td>250000.000000</td>\n",
       "      <td>8.76</td>\n",
       "      <td>Standar Room, Family Room</td>\n",
       "    </tr>\n",
       "  </tbody>\n",
       "</table>\n",
       "</div>"
      ],
      "text/plain": [
       "   hotel_id                          hotel_name  \\\n",
       "14    h0015             The Life Hotel Surabaya   \n",
       "30    h0031              Hotel 88 Embong Malang   \n",
       "39    h0040  Hotel 88 Kedungsari ( Kedungdoro )   \n",
       "11    h0012       News Front One Hotel Surabaya   \n",
       "29    h0030              Front One Inn Sidoarjo   \n",
       "\n",
       "                                    hotel_description hotel_province  \\\n",
       "14  Akomodasi yang Ideal untuk Pebisnis, Wisatawan...     Jawa Timur   \n",
       "30    Memberikan Harga yang  Murah dan Suasana Nyaman     Jawa Timur   \n",
       "39    Penginapan Yang Tenang Dan Nyaman di Tegalsari.     Jawa Timur   \n",
       "11  Rasakan keramahan kota Surabaya di News Hotel ...     Jawa Timur   \n",
       "29     Penginapan Yang Tenang Dan Nyaman di Sidoarjo.     Jawa Timur   \n",
       "\n",
       "   hotel_city                                      hotel_address  \\\n",
       "14   Surabaya       Jl. Kusuma Bangsa No.41, Surabaya, Indonesia   \n",
       "30   Surabaya                  Jl. Embong Malang No.84, Surabaya   \n",
       "39   Surabaya  Jl. Kedungsari No. 76 - 78, Tegalsari, Surabay...   \n",
       "11   Surabaya  Jl. Pondok Maspion Blok S No. 1, Pepelegi, War...   \n",
       "29   Surabaya  Jl. Trunojoyo No. 41, Sidoarjo, Jawa Timur, In...   \n",
       "\n",
       "    price_per_night  rating            service_provide  \n",
       "14    151496.000000    7.96  Standar Room, Family Room  \n",
       "30    231033.333333    8.16  Standar Room, Family Room  \n",
       "39    236833.333333    7.76  Standar Room, Family Room  \n",
       "11    239118.333333    7.48  Standar Room, Family Room  \n",
       "29    250000.000000    8.76  Standar Room, Family Room  "
      ]
     },
     "execution_count": 41,
     "metadata": {},
     "output_type": "execute_result"
    }
   ],
   "source": [
    "hotel_recommender_1('Family Room','Jawa Timur','Surabaya')"
   ]
  },
  {
   "cell_type": "markdown",
   "metadata": {},
   "source": [
    "### 4. Penggunaan Fitur untuk Model\n",
    "Fitur yang akan digunakan untuk model rekomendasi ini yaitu hotel_name, hotel city, hotel_province dan hotel_prediction\n",
    "Alasannya adalah karena informasi terkait pencarian hotel terdapat pada fitur diatas."
   ]
  },
  {
   "cell_type": "markdown",
   "metadata": {},
   "source": [
    "__Case 2__\n",
    "Sistem Rekomendasi berdasarkan kata kunci, mencari hotel dengan yang terletak di provinsi DI Yogyakarta kota Jogja dan hotel apapun yang relevan dengan Hotel Tentrem Jogja"
   ]
  },
  {
   "cell_type": "code",
   "execution_count": 42,
   "metadata": {},
   "outputs": [
    {
     "name": "stderr",
     "output_type": "stream",
     "text": [
      "[nltk_data] Downloading package stopwords to\n",
      "[nltk_data]     C:\\Users\\imam.munandar\\AppData\\Roaming\\nltk_data...\n",
      "[nltk_data]   Package stopwords is already up-to-date!\n"
     ]
    }
   ],
   "source": [
    "# import library nltk untuk stopwords agar bisa menggunakan bahasa indonesia\n",
    "import nltk\n",
    "nltk.download('stopwords')\n",
    "from nltk.corpus import stopwords\n",
    "# library CountVectorizer untuk mengubah text menjadi vektor\n",
    "from sklearn.feature_extraction.text import CountVectorizer\n",
    "from sklearn.metrics.pairwise import cosine_similarity"
   ]
  },
  {
   "cell_type": "code",
   "execution_count": 43,
   "metadata": {},
   "outputs": [],
   "source": [
    "def hotel_recommender_2(keyword,province,city):\n",
    "    data_hotel_m = hotel_final.loc[(hotel_final['hotel_province'] == province) & (hotel_final['hotel_city'] == city)].copy()\n",
    "    base_df = data_hotel_m.copy()\n",
    "    \n",
    "    df2 = pd.DataFrame({'hotel_name':[keyword]})\n",
    "    \n",
    "    if keyword not in base_df['hotel_name'].unique():\n",
    "        base_df = base_df.append(df2, ignore_index=True)\n",
    "        base_df = base_df.fillna('unknown')\n",
    "    indices = pd.Series(base_df.index, index=base_df['hotel_name']).drop_duplicates()\n",
    "    x = len(base_df['hotel_name'])\n",
    "    i = 0\n",
    "    h_name = []\n",
    "    h_des = []\n",
    "    h_province =[]\n",
    "    while i < x:\n",
    "        c = base_df['hotel_name'][i].split()\n",
    "        d = base_df['hotel_description'][i].split()\n",
    "        e = base_df['hotel_province'][i].split()\n",
    "        h_name.append(c)\n",
    "        h_des.append(d)\n",
    "        h_province.append(e)\n",
    "        i+=1\n",
    "    \n",
    "    base_df['hotel_name'] = h_name\n",
    "    base_df['hotel_description'] = h_des\n",
    "    base_df['hotel_province'] = h_province\n",
    "    \n",
    "    def soup_feature(x):\n",
    "        return ' '.join(x['hotel_name']) + ' ' +' '.join(x['hotel_province'])+' '+' '.join(x['hotel_description'])\n",
    "    \n",
    "    base_df['soup'] = base_df.apply(soup_feature,axis=1)\n",
    "    \n",
    "    sw = stopwords.words('indonesian')\n",
    "    sw.extend(stopwords.words('english'))\n",
    "    \n",
    "    count = CountVectorizer(stop_words=sw)\n",
    "    count_matrix = count.fit_transform(base_df['soup'])\n",
    "    \n",
    "    from sklearn.metrics.pairwise import cosine_similarity\n",
    "    consine_sim = cosine_similarity(count_matrix, count_matrix)\n",
    "    \n",
    "    try:\n",
    "        idx = indices[keyword]\n",
    "        sim_scores=list(enumerate(consine_sim[idx]))\n",
    "        sim_scores = sim_scores[1:6]\n",
    "        hotel_indices = [i[0] for i in sim_scores]\n",
    "        \n",
    "        df_result = data_hotel_m.iloc[hotel_indices]\n",
    "        return df_result\n",
    "    except:\n",
    "        return 'Data tidak ditemukan'"
   ]
  },
  {
   "cell_type": "code",
   "execution_count": 44,
   "metadata": {},
   "outputs": [
    {
     "name": "stderr",
     "output_type": "stream",
     "text": [
      "C:\\Users\\imam.munandar\\Anaconda3\\lib\\site-packages\\sklearn\\feature_extraction\\text.py:385: UserWarning: Your stop_words may be inconsistent with your preprocessing. Tokenizing the stop words generated tokens ['baiknya', 'berkali', 'kali', 'kurangnya', 'mata', 'olah', 'sekurang', 'setidak', 'tama', 'tidaknya'] not in stop_words.\n",
      "  'stop_words.' % sorted(inconsistent))\n"
     ]
    },
    {
     "data": {
      "text/html": [
       "<div>\n",
       "<style scoped>\n",
       "    .dataframe tbody tr th:only-of-type {\n",
       "        vertical-align: middle;\n",
       "    }\n",
       "\n",
       "    .dataframe tbody tr th {\n",
       "        vertical-align: top;\n",
       "    }\n",
       "\n",
       "    .dataframe thead th {\n",
       "        text-align: right;\n",
       "    }\n",
       "</style>\n",
       "<table border=\"1\" class=\"dataframe\">\n",
       "  <thead>\n",
       "    <tr style=\"text-align: right;\">\n",
       "      <th></th>\n",
       "      <th>hotel_id</th>\n",
       "      <th>hotel_name</th>\n",
       "      <th>hotel_description</th>\n",
       "      <th>hotel_province</th>\n",
       "      <th>hotel_city</th>\n",
       "      <th>hotel_address</th>\n",
       "      <th>price_per_night</th>\n",
       "      <th>rating</th>\n",
       "      <th>max_person</th>\n",
       "      <th>service_provide</th>\n",
       "    </tr>\n",
       "  </thead>\n",
       "  <tbody>\n",
       "    <tr>\n",
       "      <th>976</th>\n",
       "      <td>h0977</td>\n",
       "      <td>THE 1O1 Yogyakarta Tugu</td>\n",
       "      <td>Jadilah yang pertama untuk mengalami ikon baru...</td>\n",
       "      <td>Daerah Istimewa Yogyakarta</td>\n",
       "      <td>Jogja</td>\n",
       "      <td>Jl.Margoutomo No.103 (Mangkubumi), Tugu, Yogya...</td>\n",
       "      <td>614316.333333</td>\n",
       "      <td>0.0</td>\n",
       "      <td>2.0</td>\n",
       "      <td>Standar Room</td>\n",
       "    </tr>\n",
       "    <tr>\n",
       "      <th>977</th>\n",
       "      <td>h0978</td>\n",
       "      <td>Best City Hotel</td>\n",
       "      <td>Sebuah penginapan budget yang strategis, nyama...</td>\n",
       "      <td>Daerah Istimewa Yogyakarta</td>\n",
       "      <td>Jogja</td>\n",
       "      <td>Jl. Tentara Pelajar No. 44, Jatis, Yogyakarta,...</td>\n",
       "      <td>138325.333333</td>\n",
       "      <td>0.0</td>\n",
       "      <td>2.0</td>\n",
       "      <td>Standar Room</td>\n",
       "    </tr>\n",
       "    <tr>\n",
       "      <th>978</th>\n",
       "      <td>h0979</td>\n",
       "      <td>SigNature Jogja Hotel</td>\n",
       "      <td>Penginapan Yang Tenang Dan Nyaman di Mlati, Sl...</td>\n",
       "      <td>Daerah Istimewa Yogyakarta</td>\n",
       "      <td>Jogja</td>\n",
       "      <td>Jl. Monjali, Sub Jl. Sidodadi No. 88 Rt. 01 Rw...</td>\n",
       "      <td>129999.000000</td>\n",
       "      <td>0.0</td>\n",
       "      <td>2.0</td>\n",
       "      <td>Standar Room</td>\n",
       "    </tr>\n",
       "    <tr>\n",
       "      <th>979</th>\n",
       "      <td>h0980</td>\n",
       "      <td>Hotel Jentra Malioboro</td>\n",
       "      <td>Pilihan yang sempurna untuk liburan bersejarah...</td>\n",
       "      <td>Daerah Istimewa Yogyakarta</td>\n",
       "      <td>Jogja</td>\n",
       "      <td>Jl.Dagen 85, Malioboro, Yogyakarta, Indonesia</td>\n",
       "      <td>278050.000000</td>\n",
       "      <td>0.0</td>\n",
       "      <td>2.0</td>\n",
       "      <td>Standar Room</td>\n",
       "    </tr>\n",
       "    <tr>\n",
       "      <th>980</th>\n",
       "      <td>h0981</td>\n",
       "      <td>Yellow Star Ambarukmo Hotel</td>\n",
       "      <td>Penginapan Yang Tenang Dan Nyaman Di Yogyakart...</td>\n",
       "      <td>Daerah Istimewa Yogyakarta</td>\n",
       "      <td>Jogja</td>\n",
       "      <td>Jl. Laksda Adisucipto No. 23, Ambarukmo, Slema...</td>\n",
       "      <td>235248.500000</td>\n",
       "      <td>0.0</td>\n",
       "      <td>2.0</td>\n",
       "      <td>Standar Room</td>\n",
       "    </tr>\n",
       "  </tbody>\n",
       "</table>\n",
       "</div>"
      ],
      "text/plain": [
       "    hotel_id                   hotel_name  \\\n",
       "976    h0977      THE 1O1 Yogyakarta Tugu   \n",
       "977    h0978              Best City Hotel   \n",
       "978    h0979        SigNature Jogja Hotel   \n",
       "979    h0980       Hotel Jentra Malioboro   \n",
       "980    h0981  Yellow Star Ambarukmo Hotel   \n",
       "\n",
       "                                     hotel_description  \\\n",
       "976  Jadilah yang pertama untuk mengalami ikon baru...   \n",
       "977  Sebuah penginapan budget yang strategis, nyama...   \n",
       "978  Penginapan Yang Tenang Dan Nyaman di Mlati, Sl...   \n",
       "979  Pilihan yang sempurna untuk liburan bersejarah...   \n",
       "980  Penginapan Yang Tenang Dan Nyaman Di Yogyakart...   \n",
       "\n",
       "                 hotel_province hotel_city  \\\n",
       "976  Daerah Istimewa Yogyakarta      Jogja   \n",
       "977  Daerah Istimewa Yogyakarta      Jogja   \n",
       "978  Daerah Istimewa Yogyakarta      Jogja   \n",
       "979  Daerah Istimewa Yogyakarta      Jogja   \n",
       "980  Daerah Istimewa Yogyakarta      Jogja   \n",
       "\n",
       "                                         hotel_address  price_per_night  \\\n",
       "976  Jl.Margoutomo No.103 (Mangkubumi), Tugu, Yogya...    614316.333333   \n",
       "977  Jl. Tentara Pelajar No. 44, Jatis, Yogyakarta,...    138325.333333   \n",
       "978  Jl. Monjali, Sub Jl. Sidodadi No. 88 Rt. 01 Rw...    129999.000000   \n",
       "979      Jl.Dagen 85, Malioboro, Yogyakarta, Indonesia    278050.000000   \n",
       "980  Jl. Laksda Adisucipto No. 23, Ambarukmo, Slema...    235248.500000   \n",
       "\n",
       "     rating  max_person service_provide  \n",
       "976     0.0         2.0    Standar Room  \n",
       "977     0.0         2.0    Standar Room  \n",
       "978     0.0         2.0    Standar Room  \n",
       "979     0.0         2.0    Standar Room  \n",
       "980     0.0         2.0    Standar Room  "
      ]
     },
     "execution_count": 44,
     "metadata": {},
     "output_type": "execute_result"
    }
   ],
   "source": [
    "hotel_recommender_2('Santika Hotels', 'Daerah Istimewa Yogyakarta', 'Jogja')"
   ]
  },
  {
   "cell_type": "markdown",
   "metadata": {},
   "source": [
    "### Case 3\n",
    "Sistem Rekomendasi berdasarkan kata kunci, mencari hotel dengan yang terletak di provinsi DI Yogyakarta kota Jogja dan hotel\n",
    "apapun yang relevan dengan Santika Hotels\n"
   ]
  },
  {
   "cell_type": "code",
   "execution_count": 45,
   "metadata": {},
   "outputs": [
    {
     "name": "stderr",
     "output_type": "stream",
     "text": [
      "C:\\Users\\imam.munandar\\Anaconda3\\lib\\site-packages\\sklearn\\feature_extraction\\text.py:385: UserWarning: Your stop_words may be inconsistent with your preprocessing. Tokenizing the stop words generated tokens ['baiknya', 'berkali', 'kali', 'kurangnya', 'mata', 'olah', 'sekurang', 'setidak', 'tama', 'tidaknya'] not in stop_words.\n",
      "  'stop_words.' % sorted(inconsistent))\n"
     ]
    },
    {
     "data": {
      "text/html": [
       "<div>\n",
       "<style scoped>\n",
       "    .dataframe tbody tr th:only-of-type {\n",
       "        vertical-align: middle;\n",
       "    }\n",
       "\n",
       "    .dataframe tbody tr th {\n",
       "        vertical-align: top;\n",
       "    }\n",
       "\n",
       "    .dataframe thead th {\n",
       "        text-align: right;\n",
       "    }\n",
       "</style>\n",
       "<table border=\"1\" class=\"dataframe\">\n",
       "  <thead>\n",
       "    <tr style=\"text-align: right;\">\n",
       "      <th></th>\n",
       "      <th>hotel_id</th>\n",
       "      <th>hotel_name</th>\n",
       "      <th>hotel_description</th>\n",
       "      <th>hotel_province</th>\n",
       "      <th>hotel_city</th>\n",
       "      <th>hotel_address</th>\n",
       "      <th>price_per_night</th>\n",
       "      <th>rating</th>\n",
       "      <th>max_person</th>\n",
       "      <th>service_provide</th>\n",
       "    </tr>\n",
       "  </thead>\n",
       "  <tbody>\n",
       "    <tr>\n",
       "      <th>976</th>\n",
       "      <td>h0977</td>\n",
       "      <td>THE 1O1 Yogyakarta Tugu</td>\n",
       "      <td>Jadilah yang pertama untuk mengalami ikon baru...</td>\n",
       "      <td>Daerah Istimewa Yogyakarta</td>\n",
       "      <td>Jogja</td>\n",
       "      <td>Jl.Margoutomo No.103 (Mangkubumi), Tugu, Yogya...</td>\n",
       "      <td>614316.333333</td>\n",
       "      <td>0.0</td>\n",
       "      <td>2.0</td>\n",
       "      <td>Standar Room</td>\n",
       "    </tr>\n",
       "    <tr>\n",
       "      <th>977</th>\n",
       "      <td>h0978</td>\n",
       "      <td>Best City Hotel</td>\n",
       "      <td>Sebuah penginapan budget yang strategis, nyama...</td>\n",
       "      <td>Daerah Istimewa Yogyakarta</td>\n",
       "      <td>Jogja</td>\n",
       "      <td>Jl. Tentara Pelajar No. 44, Jatis, Yogyakarta,...</td>\n",
       "      <td>138325.333333</td>\n",
       "      <td>0.0</td>\n",
       "      <td>2.0</td>\n",
       "      <td>Standar Room</td>\n",
       "    </tr>\n",
       "    <tr>\n",
       "      <th>978</th>\n",
       "      <td>h0979</td>\n",
       "      <td>SigNature Jogja Hotel</td>\n",
       "      <td>Penginapan Yang Tenang Dan Nyaman di Mlati, Sl...</td>\n",
       "      <td>Daerah Istimewa Yogyakarta</td>\n",
       "      <td>Jogja</td>\n",
       "      <td>Jl. Monjali, Sub Jl. Sidodadi No. 88 Rt. 01 Rw...</td>\n",
       "      <td>129999.000000</td>\n",
       "      <td>0.0</td>\n",
       "      <td>2.0</td>\n",
       "      <td>Standar Room</td>\n",
       "    </tr>\n",
       "    <tr>\n",
       "      <th>979</th>\n",
       "      <td>h0980</td>\n",
       "      <td>Hotel Jentra Malioboro</td>\n",
       "      <td>Pilihan yang sempurna untuk liburan bersejarah...</td>\n",
       "      <td>Daerah Istimewa Yogyakarta</td>\n",
       "      <td>Jogja</td>\n",
       "      <td>Jl.Dagen 85, Malioboro, Yogyakarta, Indonesia</td>\n",
       "      <td>278050.000000</td>\n",
       "      <td>0.0</td>\n",
       "      <td>2.0</td>\n",
       "      <td>Standar Room</td>\n",
       "    </tr>\n",
       "    <tr>\n",
       "      <th>980</th>\n",
       "      <td>h0981</td>\n",
       "      <td>Yellow Star Ambarukmo Hotel</td>\n",
       "      <td>Penginapan Yang Tenang Dan Nyaman Di Yogyakart...</td>\n",
       "      <td>Daerah Istimewa Yogyakarta</td>\n",
       "      <td>Jogja</td>\n",
       "      <td>Jl. Laksda Adisucipto No. 23, Ambarukmo, Slema...</td>\n",
       "      <td>235248.500000</td>\n",
       "      <td>0.0</td>\n",
       "      <td>2.0</td>\n",
       "      <td>Standar Room</td>\n",
       "    </tr>\n",
       "  </tbody>\n",
       "</table>\n",
       "</div>"
      ],
      "text/plain": [
       "    hotel_id                   hotel_name  \\\n",
       "976    h0977      THE 1O1 Yogyakarta Tugu   \n",
       "977    h0978              Best City Hotel   \n",
       "978    h0979        SigNature Jogja Hotel   \n",
       "979    h0980       Hotel Jentra Malioboro   \n",
       "980    h0981  Yellow Star Ambarukmo Hotel   \n",
       "\n",
       "                                     hotel_description  \\\n",
       "976  Jadilah yang pertama untuk mengalami ikon baru...   \n",
       "977  Sebuah penginapan budget yang strategis, nyama...   \n",
       "978  Penginapan Yang Tenang Dan Nyaman di Mlati, Sl...   \n",
       "979  Pilihan yang sempurna untuk liburan bersejarah...   \n",
       "980  Penginapan Yang Tenang Dan Nyaman Di Yogyakart...   \n",
       "\n",
       "                 hotel_province hotel_city  \\\n",
       "976  Daerah Istimewa Yogyakarta      Jogja   \n",
       "977  Daerah Istimewa Yogyakarta      Jogja   \n",
       "978  Daerah Istimewa Yogyakarta      Jogja   \n",
       "979  Daerah Istimewa Yogyakarta      Jogja   \n",
       "980  Daerah Istimewa Yogyakarta      Jogja   \n",
       "\n",
       "                                         hotel_address  price_per_night  \\\n",
       "976  Jl.Margoutomo No.103 (Mangkubumi), Tugu, Yogya...    614316.333333   \n",
       "977  Jl. Tentara Pelajar No. 44, Jatis, Yogyakarta,...    138325.333333   \n",
       "978  Jl. Monjali, Sub Jl. Sidodadi No. 88 Rt. 01 Rw...    129999.000000   \n",
       "979      Jl.Dagen 85, Malioboro, Yogyakarta, Indonesia    278050.000000   \n",
       "980  Jl. Laksda Adisucipto No. 23, Ambarukmo, Slema...    235248.500000   \n",
       "\n",
       "     rating  max_person service_provide  \n",
       "976     0.0         2.0    Standar Room  \n",
       "977     0.0         2.0    Standar Room  \n",
       "978     0.0         2.0    Standar Room  \n",
       "979     0.0         2.0    Standar Room  \n",
       "980     0.0         2.0    Standar Room  "
      ]
     },
     "execution_count": 45,
     "metadata": {},
     "output_type": "execute_result"
    }
   ],
   "source": [
    "hotel_recommender_2('Santika Hotels','Daerah Istimewa Yogyakarta','Jogja')"
   ]
  },
  {
   "cell_type": "code",
   "execution_count": 46,
   "metadata": {},
   "outputs": [],
   "source": [
    "def hotel_recommender_3(keyword,province, city):\n",
    "    data_hotel_m = hotel_final.loc[(hotel_final['hotel_province'] == province) & (hotel_final['hotel_city'] == city)].copy()\n",
    "    \n",
    "    base_df = data_hotel_m.copy()\n",
    "\n",
    "    df2 = pd.DataFrame({'hotel_name':[keyword]})\n",
    "    \n",
    "    if keyword not in base_df['hotel_name'].unique():\n",
    "        base_df = base_df.append(df2, ignore_index=True)\n",
    "        base_df = base_df.fillna('unknown')\n",
    "        data_hotel_m = data_hotel_m.append(df2, ignore_index=True)\n",
    "        data_hotel_m = data_hotel_m.fillna('unknown')\n",
    "    # indices = pd.Series(base_df.index, index=base_df['hotel_name']).drop_duplicates()\n",
    "    x = len(base_df['hotel_name'])\n",
    "    i = 0\n",
    "    h_name = []\n",
    "    h_des = []\n",
    "    h_province =[]\n",
    "    while i < x:\n",
    "        c = base_df['hotel_name'][i].split()\n",
    "        d = base_df['hotel_description'][i].split()\n",
    "        e = base_df['hotel_province'][i].split()\n",
    "        h_name.append(c)\n",
    "        h_des.append(d)\n",
    "        h_province.append(e)\n",
    "        i+=1\n",
    "    \n",
    "    base_df['hotel_name'] = h_name\n",
    "    base_df['hotel_description'] = h_des\n",
    "    base_df['hotel_province'] = h_province\n",
    "    \n",
    "    def soup_feature(x):\n",
    "        return ' '.join(x['hotel_name']) + ' ' +' '.join(x['hotel_province'])+' '+' '.join(x['hotel_description'])\n",
    "    \n",
    "    base_df['soup'] = base_df.apply(soup_feature,axis=1)\n",
    "    \n",
    "    def get_jaccard_sim(str1,str2):\n",
    "        a = set(str1.split())\n",
    "        b = set(str1.split())\n",
    "        c = a.intersection(b)\n",
    "        return float(len(c)) / (len(a) + len(b) - len(c))\n",
    "    score=[]\n",
    "    for i in base_df['soup']:\n",
    "        key = base_df['soup'].tail(1).values[0]\n",
    "        score.append(get_jaccard_sim(i,key))\n",
    "    base_df['score'] = score\n",
    "    data_hotel_m['score'] = score\n",
    "    base_df = base_df.sort_values(by='score', ascending=False)\n",
    "    data_hotel_m = data_hotel_m.sort_values(by='score',ascending=False)\n",
    "    return data_hotel_m.drop('score',axis=1).iloc[1:6]"
   ]
  },
  {
   "cell_type": "code",
   "execution_count": 47,
   "metadata": {},
   "outputs": [
    {
     "data": {
      "text/html": [
       "<div>\n",
       "<style scoped>\n",
       "    .dataframe tbody tr th:only-of-type {\n",
       "        vertical-align: middle;\n",
       "    }\n",
       "\n",
       "    .dataframe tbody tr th {\n",
       "        vertical-align: top;\n",
       "    }\n",
       "\n",
       "    .dataframe thead th {\n",
       "        text-align: right;\n",
       "    }\n",
       "</style>\n",
       "<table border=\"1\" class=\"dataframe\">\n",
       "  <thead>\n",
       "    <tr style=\"text-align: right;\">\n",
       "      <th></th>\n",
       "      <th>hotel_id</th>\n",
       "      <th>hotel_name</th>\n",
       "      <th>hotel_description</th>\n",
       "      <th>hotel_province</th>\n",
       "      <th>hotel_city</th>\n",
       "      <th>hotel_address</th>\n",
       "      <th>price_per_night</th>\n",
       "      <th>rating</th>\n",
       "      <th>max_person</th>\n",
       "      <th>service_provide</th>\n",
       "    </tr>\n",
       "  </thead>\n",
       "  <tbody>\n",
       "    <tr>\n",
       "      <th>113</th>\n",
       "      <td>h1089</td>\n",
       "      <td>Hotel Matahari Jogja</td>\n",
       "      <td>Hotel Yang Nyaman di Tengah Jogjakarta dan Par...</td>\n",
       "      <td>Daerah Istimewa Yogyakarta</td>\n",
       "      <td>Jogja</td>\n",
       "      <td>Jl. Parangtritis KM. 1 No. 123, Yogyakarta, Ja...</td>\n",
       "      <td>178607</td>\n",
       "      <td>0</td>\n",
       "      <td>2</td>\n",
       "      <td>Standar Room</td>\n",
       "    </tr>\n",
       "    <tr>\n",
       "      <th>143</th>\n",
       "      <td>h1119</td>\n",
       "      <td>Arrayan Malioboro Syariah</td>\n",
       "      <td>Pilihan akomodasi yang ideal untuk Pasangan, B...</td>\n",
       "      <td>Daerah Istimewa Yogyakarta</td>\n",
       "      <td>Jogja</td>\n",
       "      <td>Jl. Bhayangkara No. 13, Malioboro, Yogyakarta,...</td>\n",
       "      <td>685999</td>\n",
       "      <td>0</td>\n",
       "      <td>2</td>\n",
       "      <td>Standar Room</td>\n",
       "    </tr>\n",
       "    <tr>\n",
       "      <th>144</th>\n",
       "      <td>h1120</td>\n",
       "      <td>Eastparc Hotel Yogyakarta</td>\n",
       "      <td>Eastparc Hotel Yogyakarta adalah hotel pilihan...</td>\n",
       "      <td>Daerah Istimewa Yogyakarta</td>\n",
       "      <td>Jogja</td>\n",
       "      <td>Jl. Laksda Adisucipto Km 6,5 Seturan, Yogyakar...</td>\n",
       "      <td>931482</td>\n",
       "      <td>0</td>\n",
       "      <td>2</td>\n",
       "      <td>Standar Room</td>\n",
       "    </tr>\n",
       "    <tr>\n",
       "      <th>145</th>\n",
       "      <td>h1121</td>\n",
       "      <td>Indoluxe Hotel Yogyakarta</td>\n",
       "      <td>Hotel baru yang mewah dengan konsep baru di Jo...</td>\n",
       "      <td>Daerah Istimewa Yogyakarta</td>\n",
       "      <td>Jogja</td>\n",
       "      <td>Jl Palagan Tentara Pelajar No 106 Yogyakarta</td>\n",
       "      <td>690548</td>\n",
       "      <td>0</td>\n",
       "      <td>2</td>\n",
       "      <td>Standar Room</td>\n",
       "    </tr>\n",
       "    <tr>\n",
       "      <th>146</th>\n",
       "      <td>h1122</td>\n",
       "      <td>Metro Malioboro Living</td>\n",
       "      <td>Pilihan akomodasi yang ideal untuk Pasangan, B...</td>\n",
       "      <td>Daerah Istimewa Yogyakarta</td>\n",
       "      <td>Jogja</td>\n",
       "      <td>Jl. Ronodigdayan No. 16, Bausasran, Danurejan,...</td>\n",
       "      <td>674000</td>\n",
       "      <td>0</td>\n",
       "      <td>2</td>\n",
       "      <td>Standar Room</td>\n",
       "    </tr>\n",
       "  </tbody>\n",
       "</table>\n",
       "</div>"
      ],
      "text/plain": [
       "    hotel_id                 hotel_name  \\\n",
       "113    h1089       Hotel Matahari Jogja   \n",
       "143    h1119  Arrayan Malioboro Syariah   \n",
       "144    h1120  Eastparc Hotel Yogyakarta   \n",
       "145    h1121  Indoluxe Hotel Yogyakarta   \n",
       "146    h1122     Metro Malioboro Living   \n",
       "\n",
       "                                     hotel_description  \\\n",
       "113  Hotel Yang Nyaman di Tengah Jogjakarta dan Par...   \n",
       "143  Pilihan akomodasi yang ideal untuk Pasangan, B...   \n",
       "144  Eastparc Hotel Yogyakarta adalah hotel pilihan...   \n",
       "145  Hotel baru yang mewah dengan konsep baru di Jo...   \n",
       "146  Pilihan akomodasi yang ideal untuk Pasangan, B...   \n",
       "\n",
       "                 hotel_province hotel_city  \\\n",
       "113  Daerah Istimewa Yogyakarta      Jogja   \n",
       "143  Daerah Istimewa Yogyakarta      Jogja   \n",
       "144  Daerah Istimewa Yogyakarta      Jogja   \n",
       "145  Daerah Istimewa Yogyakarta      Jogja   \n",
       "146  Daerah Istimewa Yogyakarta      Jogja   \n",
       "\n",
       "                                         hotel_address price_per_night rating  \\\n",
       "113  Jl. Parangtritis KM. 1 No. 123, Yogyakarta, Ja...          178607      0   \n",
       "143  Jl. Bhayangkara No. 13, Malioboro, Yogyakarta,...          685999      0   \n",
       "144  Jl. Laksda Adisucipto Km 6,5 Seturan, Yogyakar...          931482      0   \n",
       "145       Jl Palagan Tentara Pelajar No 106 Yogyakarta          690548      0   \n",
       "146  Jl. Ronodigdayan No. 16, Bausasran, Danurejan,...          674000      0   \n",
       "\n",
       "    max_person service_provide  \n",
       "113          2    Standar Room  \n",
       "143          2    Standar Room  \n",
       "144          2    Standar Room  \n",
       "145          2    Standar Room  \n",
       "146          2    Standar Room  "
      ]
     },
     "execution_count": 47,
     "metadata": {},
     "output_type": "execute_result"
    }
   ],
   "source": [
    "hotel_recommender_3('Santika Hotels','Daerah Istimewa Yogyakarta','Jogja')"
   ]
  },
  {
   "cell_type": "markdown",
   "metadata": {},
   "source": [
    "#### 6. Evalution Model\n",
    "\n",
    "Evaluasi menurut saya perlu dilakukan survey customer sastification dan kepuasan customer secara manual seperti google docs. Untuk mengetahui sistem ini apakah dibutuhkan customer atau tidak. jawaban dari user akan membantu melakukan evaluasi model apakah model yang sudah dibuat berguna bagi user terkait. \n",
    "\n",
    "Untuk survey bisa dilakukan dengan rumus slovin untuk menentukan populasi survey. Dari data review rating dengan total 4306, maka dengan rumus slovin digunakan margin of error 5%. Saya menggunakan 95% dari populasi agar data lebih akurat. maka survey dilakukan sebanyak sekitar kurang lebih 39-40 sample"
   ]
  },
  {
   "cell_type": "markdown",
   "metadata": {},
   "source": [
    "### Untuk meningkatkan sistem rekomendasi\n",
    "\n",
    "Bisa dilakukan jika mendapatkan data pribadi user saat ini, dengan data user tersebut kita dapat melakukan analisa terhadap kebiasaan customer masing-masing terhadap pemesanan hotel dan kebiasaan memesan kamar seperti apa yang mereka lakukan."
   ]
  },
  {
   "cell_type": "code",
   "execution_count": null,
   "metadata": {},
   "outputs": [],
   "source": [
    "# list environment yang digunakan\n",
    "conda list"
   ]
  }
 ],
 "metadata": {
  "kernelspec": {
   "display_name": "Python 3",
   "language": "python",
   "name": "python3"
  },
  "language_info": {
   "codemirror_mode": {
    "name": "ipython",
    "version": 3
   },
   "file_extension": ".py",
   "mimetype": "text/x-python",
   "name": "python",
   "nbconvert_exporter": "python",
   "pygments_lexer": "ipython3",
   "version": "3.7.6"
  }
 },
 "nbformat": 4,
 "nbformat_minor": 4
}
